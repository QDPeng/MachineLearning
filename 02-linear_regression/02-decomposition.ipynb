{
 "cells": [
  {
   "cell_type": "code",
   "execution_count": 2,
   "metadata": {},
   "outputs": [],
   "source": [
    "# Linear Regression: Decomposition Method\n",
    "# ----------------------------------\n",
    "#\n",
    "# This function shows how to use Tensorflow to\n",
    "# solve linear regression via the matrix inverse.\n",
    "#\n",
    "# Given Ax=b, and a Cholesky decomposition such that\n",
    "#  A = L*L' then we can get solve for x via\n",
    "# 1) L*y=t(A)*b\n",
    "# 2) L'*x=y\n",
    "\n",
    "import matplotlib.pyplot as plt\n",
    "import numpy as np\n",
    "import tensorflow as tf\n",
    "from tensorflow.python.framework import ops\n",
    "\n",
    "ops.reset_default_graph()\n",
    "\n",
    "# Create graph\n",
    "sess = tf.Session()"
   ]
  },
  {
   "cell_type": "code",
   "execution_count": 7,
   "metadata": {},
   "outputs": [
    {
     "name": "stdout",
     "output_type": "stream",
     "text": [
      "[  0.           1.11111111   2.22222222   3.33333333   4.44444444\n",
      "   5.55555556   6.66666667   7.77777778   8.88888889  10.        ] [ 0.97235689  0.82839985  1.18488597  2.61806169  3.98433537  5.52235255\n",
      "  6.47234884  8.57531315  9.97425991  9.42593583]\n"
     ]
    }
   ],
   "source": [
    "# Create the data\n",
    "x_vals = np.linspace(0,10,10)\n",
    "y_vals = x_vals + np.random.normal(0,1,10)\n",
    "print(x_vals,y_vals)"
   ]
  },
  {
   "cell_type": "code",
   "execution_count": 8,
   "metadata": {},
   "outputs": [
    {
     "name": "stdout",
     "output_type": "stream",
     "text": [
      "random.normal: [-0.69131435 -0.47033488 -2.12819858 -1.10414226  0.62351844 -0.91854521\n",
      "  0.01138745  0.06846969  1.55617937  0.5319269 ]\n",
      "A: [[  0.           1.        ]\n",
      " [  1.11111111   1.        ]\n",
      " [  2.22222222   1.        ]\n",
      " [  3.33333333   1.        ]\n",
      " [  4.44444444   1.        ]\n",
      " [  5.55555556   1.        ]\n",
      " [  6.66666667   1.        ]\n",
      " [  7.77777778   1.        ]\n",
      " [  8.88888889   1.        ]\n",
      " [ 10.           1.        ]]\n"
     ]
    }
   ],
   "source": [
    "# Create design matrix\n",
    "x_val_column = np.transpose(np.matrix(x_vals))\n",
    "ones_column = np.transpose(np.matrix(np.repeat(1,10)))\n",
    "A = np.column_stack((x_val_column,ones_column))\n",
    "print(\"random.normal:\", np.random.normal(0, 1, 10))\n",
    "print(\"A:\", A)"
   ]
  },
  {
   "cell_type": "code",
   "execution_count": 19,
   "metadata": {},
   "outputs": [
    {
     "name": "stdout",
     "output_type": "stream",
     "text": [
      "[[ 351.85185185   50.        ]\n",
      " [  50.           10.        ]]\n",
      "[[ 351.85185185   50.        ]\n",
      " [  50.           10.        ]]\n",
      "Tensor(\"MatrixSolve_5:0\", shape=(2, 1), dtype=float64)\n"
     ]
    }
   ],
   "source": [
    "# Create b matrix\n",
    "b = np.transpose(np.matrix(y_vals))\n",
    "# Create tensors\n",
    "A_tensor = tf.constant(A)\n",
    "b_tensor = tf.constant(b)\n",
    "# Find Cholesky Decomposition\n",
    "tA_A = tf.matmul(tf.transpose(A_tensor),A_tensor)\n",
    "L = tf.cholesky(tA_A)\n",
    "print(sess.run(tA_A))\n",
    "print(sess.run(tf.matmul(L,tf.transpose(L))))\n",
    "# Solve L*y=t(A)*b\n",
    "tA_b = tf.matmul(tf.transpose(A_tensor),b)\n",
    "solve_1 = tf.matrix_solve(L,tA_b)\n",
    "print(solve_1)"
   ]
  },
  {
   "cell_type": "code",
   "execution_count": 14,
   "metadata": {},
   "outputs": [
    {
     "name": "stdout",
     "output_type": "stream",
     "text": [
      "Tensor(\"MatrixSolve_2:0\", shape=(2, 1), dtype=float64)\n",
      "[[ 1.03721588]\n",
      " [-0.23025441]]\n"
     ]
    }
   ],
   "source": [
    "# Solve L' * y = sol1\n",
    "solve_2 = tf.matrix_solve(tf.transpose(L),solve_1)\n",
    "print(solve_2)\n",
    "solution_eval = sess.run(solve_2)\n",
    "print(solution_eval)"
   ]
  },
  {
   "cell_type": "code",
   "execution_count": 15,
   "metadata": {},
   "outputs": [
    {
     "name": "stdout",
     "output_type": "stream",
     "text": [
      "slope: 1.03721588367\n",
      "y_intercept: -0.230254413058\n"
     ]
    },
    {
     "data": {
      "image/png": "[encoded data removed]",
      "text/plain": [
       "<matplotlib.figure.Figure at 0x2155f8b0978>"
      ]
     },
     "metadata": {},
     "output_type": "display_data"
    }
   ],
   "source": [
    "# Extract coefficients\n",
    "slope = solution_eval[0][0]\n",
    "y_intercept = solution_eval[1][0]\n",
    "\n",
    "print('slope: ' + str(slope))\n",
    "print('y_intercept: ' + str(y_intercept))\n",
    "\n",
    "# Get best fit line\n",
    "best_fit = []\n",
    "for i in x_vals:\n",
    "    best_fit.append(slope * i + y_intercept)\n",
    "\n",
    "# Plot the results\n",
    "plt.plot(x_vals, y_vals, 'o', label='Data')\n",
    "plt.plot(x_vals, best_fit, 'r-', label='Best fit line', linewidth=3)\n",
    "plt.legend(loc='upper left')\n",
    "plt.show()"
   ]
  }
 ],
 "metadata": {
  "kernelspec": {
   "display_name": "Python 3",
   "language": "python",
   "name": "python3"
  },
  "language_info": {
   "codemirror_mode": {
    "name": "ipython",
    "version": 3
   },
   "file_extension": ".py",
   "mimetype": "text/x-python",
   "name": "python",
   "nbconvert_exporter": "python",
   "pygments_lexer": "ipython3",
   "version": "3.5.3"
  }
 },
 "nbformat": 4,
 "nbformat_minor": 2
}
