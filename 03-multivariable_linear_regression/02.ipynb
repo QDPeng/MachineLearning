{
 "cells": [
  {
   "cell_type": "code",
   "execution_count": 19,
   "metadata": {},
   "outputs": [
    {
     "name": "stdout",
     "output_type": "stream",
     "text": [
      "4\n",
      "[ 1.  5.  0.  5.]\n"
     ]
    }
   ],
   "source": [
    "import tensorflow as tf\n",
    "import numpy as np\n",
    "import os,sys\n",
    "\n",
    "script_dirname = os.path.dirname(os.path.abspath(__name__))\n",
    "train_data = np.loadtxt(script_dirname + \"\\\\train.txt\",dtype=np.float32)\n",
    "x_data = train_data[0:-1]\n",
    "y_data = train_data[-1]\n",
    "print(len(x_data[0]))\n",
    "print(y_data)\n",
    "W = tf.Variable(tf.random_uniform([1,len(x_data)],-5.0,5.0))"
   ]
  },
  {
   "cell_type": "code",
   "execution_count": 25,
   "metadata": {},
   "outputs": [
    {
     "name": "stdout",
     "output_type": "stream",
     "text": [
      "w: [[ 4.29149246 -4.26689386  3.47755337 -2.9478538 ]]\n",
      "0 185.879 [[ 4.35762262 -1.15198326  3.63137293  3.25968194]]\n",
      "20 3.87397e+09 [[  3040.99316406   7111.27636719   7864.65673828  13603.67773438]]\n",
      "40 8.55878e+16 [[ 14281956.  33438388.  36962736.  63935224.]]\n",
      "60 1.89089e+24 [[  6.71298109e+10   1.57171220e+11   1.73736854e+11   3.00516246e+11]]\n",
      "80 4.17756e+31 [[  3.15531987e+14   7.38756118e+14   8.16619849e+14   1.41252415e+15]]\n",
      "100 inf [[  1.48310224e+18   3.47239296e+18   3.83837805e+18   6.63932235e+18]]\n",
      "120 inf [[  6.97106557e+21   1.63213817e+22   1.80416284e+22   3.12069753e+22]]\n",
      "140 inf [[  3.27662874e+25   7.67158304e+25   8.48015456e+25   1.46682975e+26]]\n",
      "160 inf [[  1.54012125e+29   3.60589100e+29   3.98594630e+29   6.89457271e+29]]\n",
      "180 inf [[  7.23906870e+32   1.69488599e+33   1.87352414e+33   3.24067325e+33]]\n",
      "200 inf [[  3.40259668e+36   7.96651344e+36   8.80617097e+36   1.52322164e+37]]\n"
     ]
    }
   ],
   "source": [
    "hypothesis = tf.matmul(W,x_data);\n",
    "cost = tf.reduce_mean(tf.square(hypothesis - y_data))\n",
    "a = tf.Variable(0.1)\n",
    "optimizer = tf.train.GradientDescentOptimizer(a)\n",
    "train_step = optimizer.minimize(cost)\n",
    "init = tf.global_variables_initializer()\n",
    "sess = tf.Session()\n",
    "sess.run(init)\n",
    "print(\"w:\", sess.run(W))\n",
    "for step in range(201):\n",
    "    sess.run(train_step)\n",
    "    if step % 20 == 0:\n",
    "        print(step, sess.run(cost), sess.run(W))"
   ]
  }
 ],
 "metadata": {
  "kernelspec": {
   "display_name": "Python 3",
   "language": "python",
   "name": "python3"
  },
  "language_info": {
   "codemirror_mode": {
    "name": "ipython",
    "version": 3
   },
   "file_extension": ".py",
   "mimetype": "text/x-python",
   "name": "python",
   "nbconvert_exporter": "python",
   "pygments_lexer": "ipython3",
   "version": "3.5.3"
  }
 },
 "nbformat": 4,
 "nbformat_minor": 2
}
