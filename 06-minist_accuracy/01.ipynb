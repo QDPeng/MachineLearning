{
 "cells": [
  {
   "cell_type": "code",
   "execution_count": 17,
   "metadata": {},
   "outputs": [
    {
     "name": "stdout",
     "output_type": "stream",
     "text": [
      "Extracting ./minist\\train-images-idx3-ubyte.gz\n",
      "Extracting ./minist\\train-labels-idx1-ubyte.gz\n",
      "Extracting ./minist\\t10k-images-idx3-ubyte.gz\n",
      "Extracting ./minist\\t10k-labels-idx1-ubyte.gz\n"
     ]
    }
   ],
   "source": [
    "import tensorflow as tf\n",
    "from tensorflow.examples.tutorials.mnist import input_data\n",
    "\n",
    "tf.reset_default_graph()\n",
    "minist = input_data.read_data_sets(\"./minist\",one_hot=True)\n",
    "learning_rate = 0.5\n",
    "training_epochs = 25\n",
    "batch_size = 100\n",
    "display_step = 10\n",
    "# sess = tf.Session()"
   ]
  },
  {
   "cell_type": "code",
   "execution_count": 18,
   "metadata": {},
   "outputs": [
    {
     "name": "stdout",
     "output_type": "stream",
     "text": [
      "Epoch: 0010 cost= 0.267432213\n",
      "Epoch: 0020 cost= 0.257131190\n",
      "Accuracy: 0.9272\n"
     ]
    }
   ],
   "source": [
    "x = tf.placeholder(tf.float32,shape=[None,784])\n",
    "y = tf.placeholder(tf.float32,shape=[None,10])\n",
    "W = tf.Variable(tf.zeros([784,10]))\n",
    "b = tf.Variable(tf.zeros([10]))\n",
    "predict = tf.nn.softmax(tf.matmul(x,W) + b)\n",
    "cost = tf.reduce_mean(-tf.reduce_sum(y * tf.log(predict),reduction_indices=1)) # 1在每一行上求和 0 在每一列上求和\n",
    "train_step = tf.train.GradientDescentOptimizer(learning_rate).minimize(cost)\n",
    "init = tf.global_variables_initializer()\n",
    "with tf.Session() as sess:\n",
    "    sess.run(init)\n",
    "    for epoch in range(training_epochs):\n",
    "        avg_cost = 0\n",
    "        total_batch = int(minist.train.num_examples / batch_size)\n",
    "        for i in range(total_batch):\n",
    "            batch_xs,batchys = minist.train.next_batch(batch_size)\n",
    "            _,c = sess.run([train_step,cost],feed_dict={x: batch_xs,y:batchys})\n",
    "            avg_cost += c / total_batch\n",
    "        if (epoch + 1) % display_step == 0:\n",
    "            print(\"Epoch:\", '%04d' % (epoch + 1), \"cost=\", \"{:.9f}\".format(avg_cost))\n",
    "\n",
    "    correct_prediction = tf.equal(tf.argmax(predict, 1), tf.argmax(y, 1))\n",
    "    accuracy = tf.reduce_mean(tf.cast(correct_prediction, tf.float32))\n",
    "\n",
    "    print(\"Accuracy:\", accuracy.eval({x: minist.test.images, y: minist.test.labels}))        \n"
   ]
  },
  {
   "cell_type": "code",
   "execution_count": null,
   "metadata": {},
   "outputs": [],
   "source": []
  }
 ],
 "metadata": {
  "kernelspec": {
   "display_name": "Python 3",
   "language": "python",
   "name": "python3"
  },
  "language_info": {
   "codemirror_mode": {
    "name": "ipython",
    "version": 3
   },
   "file_extension": ".py",
   "mimetype": "text/x-python",
   "name": "python",
   "nbconvert_exporter": "python",
   "pygments_lexer": "ipython3",
   "version": "3.5.3"
  }
 },
 "nbformat": 4,
 "nbformat_minor": 2
}
