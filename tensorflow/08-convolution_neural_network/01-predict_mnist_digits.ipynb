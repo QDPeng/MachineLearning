{
 "cells": [
  {
   "cell_type": "markdown",
   "metadata": {},
   "source": [
    "## Introduction to CNN with MNIST\n",
    "\n",
    "\n",
    "![](https://github.com/nfmcclure/tensorflow_cookbook/blob/master/08_Convolutional_Neural_Networks/images/02_cnn1_loss_acc.png?raw=true)\n",
    "\n",
    "![Sample Test Batch](https://github.com/nfmcclure/tensorflow_cookbook/blob/master/08_Convolutional_Neural_Networks/images/02_cnn1_mnist_output.png?raw=true)\n",
    "\n",
    "A random set of 6 digits with actuals and predicted labels. You can see a prediction failure in the lower right box.\n"
   ]
  },
  {
   "cell_type": "code",
   "execution_count": 3,
   "metadata": {},
   "outputs": [
    {
     "name": "stdout",
     "output_type": "stream",
     "text": [
      "Extracting mnist\\train-images-idx3-ubyte.gz\n",
      "Extracting mnist\\train-labels-idx1-ubyte.gz\n",
      "Extracting mnist\\t10k-images-idx3-ubyte.gz\n",
      "Extracting mnist\\t10k-labels-idx1-ubyte.gz\n",
      "<tensorflow.contrib.learn.python.learn.datasets.mnist.DataSet object at 0x000001AE00057940>\n"
     ]
    }
   ],
   "source": [
    "# Introductory CNN Model: MNIST Digits\n",
    "# ---------------------------------------\n",
    "#\n",
    "# In this example, we will download the MNIST handwritten\n",
    "# digits and create a simple CNN network to predict the\n",
    "# digit category (0-9)\n",
    "\n",
    "import matplotlib.pyplot as plt\n",
    "import numpy as np\n",
    "import tensorflow as tf\n",
    "from tensorflow.python.framework import ops\n",
    "from tensorflow.contrib.learn.python.learn.datasets.mnist import read_data_sets\n",
    "\n",
    "ops.reset_default_graph()\n",
    "\n",
    "# Start a graph session\n",
    "sess = tf.Session()\n",
    "# Load data\n",
    "data_dir = 'mnist'\n",
    "mnist = read_data_sets(data_dir)\n",
    "print(mnist.train)"
   ]
  },
  {
   "cell_type": "code",
   "execution_count": 15,
   "metadata": {
    "scrolled": false
   },
   "outputs": [
    {
     "name": "stdout",
     "output_type": "stream",
     "text": [
      "55000 10000\n",
      "55000 10000\n",
      "[7 3 4 ..., 5 6 8] [7 2 1 ..., 4 5 6]\n",
      "28 28\n",
      "10\n"
     ]
    }
   ],
   "source": [
    "# Convert images into 28x28 (they are downloaded as 1x784)\n",
    "train_xdata = np.array([np.reshape(x,(28,28)) for x in mnist.train.images])\n",
    "test_xdata = np.array([np.reshape(x,(28,28)) for x in mnist.test.images])\n",
    "print(len(train_xdata),len(test_xdata))\n",
    "# print(train_xdata,test_xdata)\n",
    "# Convert labels into one-hot encoded vectors\n",
    "train_lables = mnist.train.labels\n",
    "test_lables = mnist.test.labels\n",
    "print(len(train_lables),len(test_lables))\n",
    "print(train_lables,test_lables)\n",
    "\n",
    "# Set model parameters\n",
    "batch_size = 100\n",
    "learning_rate = 0.005\n",
    "evaluation_size = 500\n",
    "image_width = train_xdata[0].shape[0]\n",
    "image_height = train_xdata[0].shape[1]\n",
    "print(image_width,image_height)\n",
    "target_size = max(train_lables) + 1\n",
    "print(target_size)\n",
    "num_channels = 1  # greyscale = 1 channel\n",
    "generations = 500\n",
    "eval_every = 5\n",
    "conv1_features = 25\n",
    "conv2_features = 50\n",
    "max_pool_size1 = 2  # NxN window for 1st max pool layer\n",
    "max_pool_size2 = 2  # NxN window for 2nd max pool layer\n",
    "fully_connected_size1 = 100\n",
    "\n",
    "# Declare model placeholders\n",
    "x_input_shape = (batch_size,image_width,image_height,num_channels)\n",
    "x_input = tf.placeholder(dtype=tf.float32,shape=x_input_shape)\n",
    "y_target = tf.placeholder(dtype=tf.int32,shape=(batch_size))\n",
    "\n",
    "eval_input_shape = (evaluation_size,image_width,image_height,num_channels)\n",
    "eval_input = tf.placeholder(dtype=tf.float32,shape=eval_input_shape)\n",
    "eval_target = tf.placeholder(dtype=tf.int32,shape=(evaluation_size))\n",
    "\n",
    "# Declare model parameters\n",
    "conv1_weight = tf.Variable(tf.truncated_normal([4,4,num_channels,conv1_features],stddev=0.1,dtype=tf.float32))\n",
    "conv1_bias = tf.Variable(tf.zeros([conv1_features],dtype=tf.float32))\n",
    "conv2_weight = tf.Variable(tf.truncated_normal([4,4,conv1_features,conv2_features],stddev=0.1,dtype=tf.float32))\n",
    "conv2_bias = tf.Variable(tf.zeros([conv2_features],dtype=tf.float32))\n",
    "\n",
    "# fully connected variables\n",
    "resulting_width = image_width // (max_pool_size1 * max_pool_size2) #整数除法\n",
    "resulting_height = image_height // (max_pool_size1 * max_pool_size2)\n",
    "full1_input_size = resulting_width * resulting_height * conv2_features\n",
    "full1_weight = tf.Variable(tf.truncated_normal([full1_input_size,fully_connected_size1],stddev=0.1,dtype=tf.float32))\n",
    "full1_bias = tf.Variable(tf.truncated_normal([fully_connected_size1],stddev=0.1,dtype=tf.float32))\n",
    "\n",
    "full2_weight = tf.Variable(tf.truncated_normal([fully_connected_size1,target_size],stddev=0.1,dtype=tf.float32))\n",
    "full2_bias = tf.Variable(tf.truncated_normal([target_size],stddev=0.1,dtype=tf.float32))\n"
   ]
  },
  {
   "cell_type": "code",
   "execution_count": 20,
   "metadata": {},
   "outputs": [
    {
     "name": "stdout",
     "output_type": "stream",
     "text": [
      "Tensor(\"Placeholder_4:0\", shape=(100, 28, 28, 1), dtype=float32) <tf.Variable 'Variable_4:0' shape=(4, 4, 1, 25) dtype=float32_ref>\n",
      "Tensor(\"Conv2D_16:0\", shape=(100, 25, 25, 25), dtype=float32)\n",
      "Tensor(\"Relu_24:0\", shape=(100, 25, 25, 25), dtype=float32)\n",
      "Tensor(\"MaxPool_16:0\", shape=(100, 13, 13, 25), dtype=float32) <tf.Variable 'Variable_6:0' shape=(4, 4, 25, 50) dtype=float32_ref>\n",
      "Tensor(\"Conv2D_17:0\", shape=(100, 13, 13, 50), dtype=float32)\n",
      "Tensor(\"Relu_25:0\", shape=(100, 13, 13, 50), dtype=float32)\n",
      "Tensor(\"MaxPool_17:0\", shape=(100, 7, 7, 50), dtype=float32)\n",
      "[100, 7, 7, 50]\n",
      "Tensor(\"Add_17:0\", shape=(100, 10), dtype=float32)\n",
      "Tensor(\"Placeholder_6:0\", shape=(500, 28, 28, 1), dtype=float32) <tf.Variable 'Variable_4:0' shape=(4, 4, 1, 25) dtype=float32_ref>\n",
      "Tensor(\"Conv2D_18:0\", shape=(500, 25, 25, 25), dtype=float32)\n",
      "Tensor(\"Relu_27:0\", shape=(500, 25, 25, 25), dtype=float32)\n",
      "Tensor(\"MaxPool_18:0\", shape=(500, 13, 13, 25), dtype=float32) <tf.Variable 'Variable_6:0' shape=(4, 4, 25, 50) dtype=float32_ref>\n",
      "Tensor(\"Conv2D_19:0\", shape=(500, 13, 13, 50), dtype=float32)\n",
      "Tensor(\"Relu_28:0\", shape=(500, 13, 13, 50), dtype=float32)\n",
      "Tensor(\"MaxPool_19:0\", shape=(500, 7, 7, 50), dtype=float32)\n",
      "[500, 7, 7, 50]\n",
      "Tensor(\"Add_19:0\", shape=(500, 10), dtype=float32)\n"
     ]
    }
   ],
   "source": [
    "# Initialize Model Operations\n",
    "def my_conv_net(input_data):\n",
    "   # First Conv-ReLU-MaxPool Layer\n",
    "    print(input_data,conv1_weight)\n",
    "    conv1 = tf.nn.conv2d(input_data,filter=conv1_weight,strides=[1,1,1,1],padding=\"SAME\")\n",
    "    print(conv1)\n",
    "    relu1 = tf.nn.relu(tf.nn.bias_add(conv1,conv1_bias))\n",
    "    print(relu1)\n",
    "    max_pool1 = tf.nn.max_pool(relu1,ksize=[1,max_pool_size1,max_pool_size1,1],\n",
    "                               strides=[1,max_pool_size1,max_pool_size1,1],padding=\"SAME\")\n",
    "    print(max_pool1,conv2_weight)\n",
    "    # Second Conv-ReLU-MaxPool Layer\n",
    "    conv2 = tf.nn.conv2d(max_pool1,conv2_weight,strides=[1,1,1,1],padding=\"SAME\")\n",
    "    print(conv2)\n",
    "    relu2 = tf.nn.relu(tf.nn.bias_add(conv2,conv2_bias))\n",
    "    print(relu2)\n",
    "    max_pool2 = tf.nn.max_pool(relu2,ksize=[1,max_pool_size2,max_pool_size2,1],\n",
    "                               strides=[1,max_pool_size2,max_pool_size2,1],padding=\"SAME\")\n",
    "    print(max_pool2)\n",
    "    # Transform Output into a 1xN layer for next fully connected layer\n",
    "    final_conv_shape = max_pool2.get_shape().as_list()\n",
    "    print(final_conv_shape)\n",
    "    final_shape = final_conv_shape[1] * final_conv_shape[2] * final_conv_shape[3]\n",
    "    flat_output = tf.reshape(max_pool2,[final_conv_shape[0],final_shape])\n",
    "    # First Fully Connected Layer\n",
    "    fully_connect1 = tf.nn.relu(tf.add(tf.matmul(flat_output,full1_weight),full1_bias))\n",
    "    # Second Fully Connected Layer\n",
    "    final_model_output = tf.add(tf.matmul(fully_connect1,full2_weight),full2_bias)\n",
    "    print(final_model_output)\n",
    "    return (final_model_output)\n",
    "\n",
    "model_output = my_conv_net(x_input)\n",
    "test_model_output = my_conv_net(eval_input)\n",
    "    "
   ]
  },
  {
   "cell_type": "code",
   "execution_count": 26,
   "metadata": {},
   "outputs": [],
   "source": [
    "# Declare Loss Function (softmax cross entropy)\n",
    "loss = tf.reduce_mean(tf.nn.sparse_softmax_cross_entropy_with_logits(logits=model_output,labels=y_target))\n",
    "# Create a prediction function\n",
    "prediction = tf.nn.softmax(model_output)\n",
    "test_prediction = tf.nn.softmax(test_model_output)\n",
    "# create accuracy function\n",
    "def get_accuracy(logits,targets):\n",
    "    batch_predictions = np.argmax(logits,axis=1)\n",
    "    num_correct = np.sum(np.equal(batch_predictions,targets))\n",
    "    return (100. * num_correct / batch_predictions.shape[0])\n",
    "# Create an optimizer\n",
    "my_optimizer = tf.train.MomentumOptimizer(learning_rate, 0.9)\n",
    "train_step = my_optimizer.minimize(loss)\n",
    "init = tf.global_variables_initializer()\n",
    "sess.run(init)"
   ]
  },
  {
   "cell_type": "code",
   "execution_count": 29,
   "metadata": {},
   "outputs": [
    {
     "name": "stdout",
     "output_type": "stream",
     "text": [
      "Generation # 5. Train Loss: 2.19. Train Acc (Test Acc): 33.00 (34.00)\n",
      "Generation # 10. Train Loss: 2.14. Train Acc (Test Acc): 38.00 (32.00)\n",
      "Generation # 15. Train Loss: 2.08. Train Acc (Test Acc): 35.00 (34.60)\n",
      "Generation # 20. Train Loss: 1.88. Train Acc (Test Acc): 57.00 (50.00)\n",
      "Generation # 25. Train Loss: 1.74. Train Acc (Test Acc): 62.00 (57.80)\n",
      "Generation # 30. Train Loss: 1.52. Train Acc (Test Acc): 63.00 (62.80)\n",
      "Generation # 35. Train Loss: 1.33. Train Acc (Test Acc): 68.00 (69.20)\n",
      "Generation # 40. Train Loss: 0.96. Train Acc (Test Acc): 77.00 (75.80)\n",
      "Generation # 45. Train Loss: 0.55. Train Acc (Test Acc): 89.00 (73.40)\n",
      "Generation # 50. Train Loss: 0.74. Train Acc (Test Acc): 78.00 (81.00)\n",
      "Generation # 55. Train Loss: 0.54. Train Acc (Test Acc): 84.00 (81.20)\n",
      "Generation # 60. Train Loss: 0.68. Train Acc (Test Acc): 79.00 (83.60)\n",
      "Generation # 65. Train Loss: 0.58. Train Acc (Test Acc): 82.00 (82.80)\n",
      "Generation # 70. Train Loss: 0.36. Train Acc (Test Acc): 91.00 (86.40)\n",
      "Generation # 75. Train Loss: 0.28. Train Acc (Test Acc): 90.00 (84.80)\n",
      "Generation # 80. Train Loss: 0.37. Train Acc (Test Acc): 87.00 (87.00)\n",
      "Generation # 85. Train Loss: 0.34. Train Acc (Test Acc): 90.00 (89.80)\n",
      "Generation # 90. Train Loss: 0.44. Train Acc (Test Acc): 88.00 (87.20)\n",
      "Generation # 95. Train Loss: 0.33. Train Acc (Test Acc): 91.00 (92.40)\n",
      "Generation # 100. Train Loss: 0.45. Train Acc (Test Acc): 85.00 (89.40)\n",
      "Generation # 105. Train Loss: 0.48. Train Acc (Test Acc): 86.00 (89.20)\n",
      "Generation # 110. Train Loss: 0.32. Train Acc (Test Acc): 88.00 (89.80)\n",
      "Generation # 115. Train Loss: 0.36. Train Acc (Test Acc): 89.00 (91.00)\n",
      "Generation # 120. Train Loss: 0.27. Train Acc (Test Acc): 90.00 (89.60)\n",
      "Generation # 125. Train Loss: 0.21. Train Acc (Test Acc): 93.00 (87.40)\n",
      "Generation # 130. Train Loss: 0.25. Train Acc (Test Acc): 92.00 (89.40)\n",
      "Generation # 135. Train Loss: 0.28. Train Acc (Test Acc): 94.00 (88.80)\n",
      "Generation # 140. Train Loss: 0.23. Train Acc (Test Acc): 92.00 (92.20)\n",
      "Generation # 145. Train Loss: 0.28. Train Acc (Test Acc): 91.00 (90.00)\n",
      "Generation # 150. Train Loss: 0.39. Train Acc (Test Acc): 91.00 (91.80)\n",
      "Generation # 155. Train Loss: 0.37. Train Acc (Test Acc): 88.00 (92.60)\n",
      "Generation # 160. Train Loss: 0.32. Train Acc (Test Acc): 92.00 (92.80)\n",
      "Generation # 165. Train Loss: 0.28. Train Acc (Test Acc): 89.00 (93.00)\n",
      "Generation # 170. Train Loss: 0.17. Train Acc (Test Acc): 96.00 (92.60)\n",
      "Generation # 175. Train Loss: 0.25. Train Acc (Test Acc): 93.00 (94.00)\n",
      "Generation # 180. Train Loss: 0.34. Train Acc (Test Acc): 89.00 (93.00)\n",
      "Generation # 185. Train Loss: 0.25. Train Acc (Test Acc): 90.00 (94.20)\n",
      "Generation # 190. Train Loss: 0.25. Train Acc (Test Acc): 90.00 (93.20)\n",
      "Generation # 195. Train Loss: 0.35. Train Acc (Test Acc): 90.00 (94.20)\n",
      "Generation # 200. Train Loss: 0.25. Train Acc (Test Acc): 90.00 (91.60)\n",
      "Generation # 205. Train Loss: 0.28. Train Acc (Test Acc): 88.00 (91.60)\n",
      "Generation # 210. Train Loss: 0.27. Train Acc (Test Acc): 89.00 (92.00)\n",
      "Generation # 215. Train Loss: 0.24. Train Acc (Test Acc): 89.00 (93.00)\n",
      "Generation # 220. Train Loss: 0.25. Train Acc (Test Acc): 93.00 (92.80)\n",
      "Generation # 225. Train Loss: 0.20. Train Acc (Test Acc): 93.00 (92.40)\n",
      "Generation # 230. Train Loss: 0.23. Train Acc (Test Acc): 93.00 (90.80)\n",
      "Generation # 235. Train Loss: 0.15. Train Acc (Test Acc): 96.00 (95.80)\n",
      "Generation # 240. Train Loss: 0.15. Train Acc (Test Acc): 95.00 (94.20)\n",
      "Generation # 245. Train Loss: 0.22. Train Acc (Test Acc): 95.00 (96.20)\n",
      "Generation # 250. Train Loss: 0.16. Train Acc (Test Acc): 97.00 (94.20)\n",
      "Generation # 255. Train Loss: 0.12. Train Acc (Test Acc): 97.00 (92.80)\n",
      "Generation # 260. Train Loss: 0.18. Train Acc (Test Acc): 93.00 (95.80)\n",
      "Generation # 265. Train Loss: 0.29. Train Acc (Test Acc): 88.00 (92.20)\n",
      "Generation # 270. Train Loss: 0.11. Train Acc (Test Acc): 97.00 (95.40)\n",
      "Generation # 275. Train Loss: 0.20. Train Acc (Test Acc): 95.00 (95.20)\n",
      "Generation # 280. Train Loss: 0.18. Train Acc (Test Acc): 94.00 (95.00)\n",
      "Generation # 285. Train Loss: 0.11. Train Acc (Test Acc): 97.00 (93.00)\n",
      "Generation # 290. Train Loss: 0.10. Train Acc (Test Acc): 97.00 (94.60)\n",
      "Generation # 295. Train Loss: 0.13. Train Acc (Test Acc): 97.00 (93.20)\n",
      "Generation # 300. Train Loss: 0.12. Train Acc (Test Acc): 98.00 (94.00)\n",
      "Generation # 305. Train Loss: 0.26. Train Acc (Test Acc): 94.00 (94.20)\n",
      "Generation # 310. Train Loss: 0.40. Train Acc (Test Acc): 89.00 (94.40)\n",
      "Generation # 315. Train Loss: 0.37. Train Acc (Test Acc): 92.00 (96.60)\n",
      "Generation # 320. Train Loss: 0.22. Train Acc (Test Acc): 92.00 (95.40)\n",
      "Generation # 325. Train Loss: 0.11. Train Acc (Test Acc): 98.00 (96.00)\n",
      "Generation # 330. Train Loss: 0.15. Train Acc (Test Acc): 95.00 (95.60)\n",
      "Generation # 335. Train Loss: 0.17. Train Acc (Test Acc): 94.00 (93.80)\n",
      "Generation # 340. Train Loss: 0.20. Train Acc (Test Acc): 92.00 (96.40)\n",
      "Generation # 345. Train Loss: 0.22. Train Acc (Test Acc): 91.00 (95.60)\n",
      "Generation # 350. Train Loss: 0.27. Train Acc (Test Acc): 92.00 (94.40)\n",
      "Generation # 355. Train Loss: 0.16. Train Acc (Test Acc): 95.00 (93.80)\n",
      "Generation # 360. Train Loss: 0.10. Train Acc (Test Acc): 96.00 (95.00)\n",
      "Generation # 365. Train Loss: 0.15. Train Acc (Test Acc): 96.00 (95.80)\n",
      "Generation # 370. Train Loss: 0.11. Train Acc (Test Acc): 99.00 (95.20)\n",
      "Generation # 375. Train Loss: 0.06. Train Acc (Test Acc): 100.00 (95.00)\n",
      "Generation # 380. Train Loss: 0.11. Train Acc (Test Acc): 95.00 (97.00)\n",
      "Generation # 385. Train Loss: 0.14. Train Acc (Test Acc): 96.00 (96.20)\n",
      "Generation # 390. Train Loss: 0.07. Train Acc (Test Acc): 98.00 (95.40)\n",
      "Generation # 395. Train Loss: 0.10. Train Acc (Test Acc): 98.00 (97.40)\n",
      "Generation # 400. Train Loss: 0.11. Train Acc (Test Acc): 94.00 (96.00)\n",
      "Generation # 405. Train Loss: 0.09. Train Acc (Test Acc): 98.00 (97.20)\n",
      "Generation # 410. Train Loss: 0.12. Train Acc (Test Acc): 96.00 (96.80)\n",
      "Generation # 415. Train Loss: 0.11. Train Acc (Test Acc): 98.00 (95.20)\n",
      "Generation # 420. Train Loss: 0.13. Train Acc (Test Acc): 95.00 (96.80)\n",
      "Generation # 425. Train Loss: 0.14. Train Acc (Test Acc): 95.00 (96.20)\n",
      "Generation # 430. Train Loss: 0.09. Train Acc (Test Acc): 97.00 (93.80)\n",
      "Generation # 435. Train Loss: 0.12. Train Acc (Test Acc): 96.00 (96.40)\n",
      "Generation # 440. Train Loss: 0.16. Train Acc (Test Acc): 93.00 (94.00)\n",
      "Generation # 445. Train Loss: 0.18. Train Acc (Test Acc): 95.00 (95.20)\n",
      "Generation # 450. Train Loss: 0.22. Train Acc (Test Acc): 93.00 (95.40)\n",
      "Generation # 455. Train Loss: 0.11. Train Acc (Test Acc): 97.00 (97.80)\n",
      "Generation # 460. Train Loss: 0.09. Train Acc (Test Acc): 99.00 (98.20)\n",
      "Generation # 465. Train Loss: 0.06. Train Acc (Test Acc): 100.00 (96.40)\n",
      "Generation # 470. Train Loss: 0.18. Train Acc (Test Acc): 94.00 (96.00)\n",
      "Generation # 475. Train Loss: 0.12. Train Acc (Test Acc): 95.00 (96.20)\n",
      "Generation # 480. Train Loss: 0.14. Train Acc (Test Acc): 95.00 (95.40)\n",
      "Generation # 485. Train Loss: 0.15. Train Acc (Test Acc): 94.00 (95.20)\n",
      "Generation # 490. Train Loss: 0.12. Train Acc (Test Acc): 96.00 (96.60)\n",
      "Generation # 495. Train Loss: 0.12. Train Acc (Test Acc): 96.00 (95.80)\n",
      "Generation # 500. Train Loss: 0.19. Train Acc (Test Acc): 97.00 (96.00)\n",
      "range(0, 500, 5)\n"
     ]
    }
   ],
   "source": [
    "# Start training loop\n",
    "train_loss = []\n",
    "train_acc = []\n",
    "test_acc = []\n",
    "for i in range(generations):\n",
    "    rand_index = np.random.choice(len(train_xdata),size=batch_size)\n",
    "    rand_x = train_xdata[rand_index]\n",
    "    rand_x = np.expand_dims(rand_x,3)\n",
    "    rand_y = train_lables[rand_index]\n",
    "    train_dict = {x_input: rand_x,y_target: rand_y}\n",
    "    sess.run(train_step,feed_dict=train_dict)\n",
    "    temp_train_loss,temp_train_predict = sess.run([loss,prediction],feed_dict=train_dict)\n",
    "    temp_train_acc = get_accuracy(temp_train_predict,rand_y)\n",
    "    if (i + 1) % eval_every == 0:\n",
    "        eval_index = np.random.choice(len(test_xdata),size=evaluation_size)\n",
    "        eval_x = test_xdata[eval_index]\n",
    "        eval_x = np.expand_dims(eval_x,3)\n",
    "        eval_y = test_lables[eval_index]\n",
    "        test_dict = {eval_input:eval_x,eval_target:eval_y}\n",
    "        test_predict = sess.run(test_prediction,feed_dict=test_dict)\n",
    "        tmp_test_acc = get_accuracy(test_predict,eval_y)\n",
    "        # Record and print results\n",
    "        train_loss.append(temp_train_loss)\n",
    "        train_acc.append(temp_train_acc)\n",
    "        test_acc.append(tmp_test_acc)\n",
    "        acc_and_loss = [(i + 1), temp_train_loss, temp_train_acc, tmp_test_acc]\n",
    "        acc_and_loss = [np.round(x, 2) for x in acc_and_loss]\n",
    "        print('Generation # {}. Train Loss: {:.2f}. Train Acc (Test Acc): {:.2f} ({:.2f})'.format(*acc_and_loss))\n",
    "\n",
    "# Matlotlib code to plot the loss and accuracies\n",
    "eval_indices = range(0, generations, eval_every)\n",
    "print(eval_indices)"
   ]
  },
  {
   "cell_type": "code",
   "execution_count": 30,
   "metadata": {},
   "outputs": [
    {
     "data": {
      "image/png": "[encoded data removed]",
      "text/plain": [
       "<matplotlib.figure.Figure at 0x1ae0658eeb8>"
      ]
     },
     "metadata": {},
     "output_type": "display_data"
    }
   ],
   "source": [
    "# Matlotlib code to plot the loss and accuracies\n",
    "# Plot loss over time\n",
    "plt.plot(eval_indices, train_loss, 'k-')\n",
    "plt.title('Softmax Loss per Generation')\n",
    "plt.xlabel('Generation')\n",
    "plt.ylabel('Softmax Loss')\n",
    "plt.show()"
   ]
  },
  {
   "cell_type": "code",
   "execution_count": 31,
   "metadata": {},
   "outputs": [
    {
     "data": {
      "image/png": "[encoded data removed]",
      "text/plain": [
       "<matplotlib.figure.Figure at 0x1ae065a0f28>"
      ]
     },
     "metadata": {},
     "output_type": "display_data"
    }
   ],
   "source": [
    "# Plot train and test accuracy\n",
    "plt.plot(eval_indices, train_acc, 'k-', label='Train Set Accuracy')\n",
    "plt.plot(eval_indices, test_acc, 'r--', label='Test Set Accuracy')\n",
    "plt.title('Train and Test Accuracy')\n",
    "plt.xlabel('Generation')\n",
    "plt.ylabel('Accuracy')\n",
    "plt.legend(loc='lower right')\n",
    "plt.show()"
   ]
  },
  {
   "cell_type": "code",
   "execution_count": 35,
   "metadata": {},
   "outputs": [
    {
     "data": {
      "image/png": "[encoded data removed]",
      "text/plain": [
       "<matplotlib.figure.Figure at 0x1ae034ea7f0>"
      ]
     },
     "metadata": {},
     "output_type": "display_data"
    }
   ],
   "source": [
    "# Plot some samples\n",
    "# Plot the 6 of the last batch results:\n",
    "actuals = rand_y[0:6]\n",
    "predictions = np.argmax(temp_train_predict, axis=1)[0:6]\n",
    "images = np.squeeze(rand_x[0:6])\n",
    "\n",
    "Nrows = 2\n",
    "Ncols = 3\n",
    "for i in range(6):\n",
    "    plt.subplot(Nrows, Ncols, i + 1)\n",
    "    plt.imshow(np.reshape(images[i], [28, 28]), cmap='Greys_r')\n",
    "    plt.title('Actual: ' + str(actuals[i]) + ' Pred: ' + str(predictions[i]),\n",
    "              fontsize=10)\n",
    "    frame = plt.gca()\n",
    "    frame.axes.get_xaxis().set_visible(False)\n",
    "    frame.axes.get_yaxis().set_visible(False)"
   ]
  },
  {
   "cell_type": "code",
   "execution_count": null,
   "metadata": {},
   "outputs": [],
   "source": []
  }
 ],
 "metadata": {
  "kernelspec": {
   "display_name": "Python 3",
   "language": "python",
   "name": "python3"
  },
  "language_info": {
   "codemirror_mode": {
    "name": "ipython",
    "version": 3
   },
   "file_extension": ".py",
   "mimetype": "text/x-python",
   "name": "python",
   "nbconvert_exporter": "python",
   "pygments_lexer": "ipython3",
   "version": "3.5.3"
  }
 },
 "nbformat": 4,
 "nbformat_minor": 2
}
