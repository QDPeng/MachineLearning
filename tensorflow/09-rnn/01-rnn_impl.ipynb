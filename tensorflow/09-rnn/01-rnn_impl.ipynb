{
 "cells": [
  {
   "cell_type": "code",
   "execution_count": 19,
   "metadata": {},
   "outputs": [
    {
     "name": "stdout",
     "output_type": "stream",
     "text": [
      "ham\tRofl. Its true to its name\n",
      "\n",
      "['ham', 'Rofl. Its true to its name\\n']\n"
     ]
    }
   ],
   "source": [
    "# Implementing an RNN in Tensorflow\n",
    "# ----------------------------------\n",
    "#\n",
    "# We implement an RNN in Tensorflow to predict spam/ham from texts\n",
    "import os\n",
    "import re\n",
    "import io\n",
    "import requests\n",
    "import numpy as np\n",
    "import matplotlib.pyplot as plt\n",
    "import tensorflow as tf\n",
    "from zipfile import ZipFile\n",
    "from tensorflow.python.framework import ops\n",
    "\n",
    "ops.reset_default_graph()\n",
    "sess = tf.Session()\n",
    "# Set RNN parameters\n",
    "epochs = 20\n",
    "batch_size = 250\n",
    "max_sequence_length = 25\n",
    "rnn_size = 10\n",
    "embedding_size = 50\n",
    "min_word_frequency = 10\n",
    "learning_rate = 0.0005\n",
    "dropout_keep_prob = tf.placeholder(tf.float32)\n",
    "# Download or open data\n",
    "data_dir = 'temp'\n",
    "data_file = 'text_data.txt'\n",
    "if not os.path.exists(data_dir):\n",
    "    os.makedirs(data_dir)\n",
    "    \n",
    "if not os.path.isfile(os.path.join(data_dir,data_file)):\n",
    "    zip_url = 'http://archive.ics.uci.edu/ml/machine-learning-databases/00228/smsspamcollection.zip'\n",
    "    r = requests.get(zip_url)\n",
    "    z = ZipFile(io.BytesIO(r.content))\n",
    "    file = z.read('SMSSpamCollection')\n",
    "     # Format Data\n",
    "    text_data = file.decode()\n",
    "    text_data = text_data.encode('ascii', errors='ignore')\n",
    "    text_data = text_data.decode().split('\\n')\n",
    "    # Save data to text file\n",
    "    with open(os.path.join(data_dir,data_file),'w') as file_conn:\n",
    "        for text in text_data:\n",
    "            file_conn.write('{}\\n'.format(text))\n",
    "else:\n",
    "    # Open data from text file\n",
    "    text_data = []\n",
    "    with open(os.path.join(data_dir, data_file), 'r') as file_conn:\n",
    "        for row in file_conn:\n",
    "            text_data.append(row)\n",
    "    text_data = text_data[:-1]\n",
    "    print(text_data[-1])\n",
    "text_data = [x.split('\\t') for x in text_data if len(x) >= 1]\n",
    "print(text_data[-1])\n",
    "\n",
    "[text_data_target, text_data_train] = [list(x) for x in zip(*text_data)]\n",
    "# print(text_data_target,text_data_train)"
   ]
  },
  {
   "cell_type": "code",
   "execution_count": 20,
   "metadata": {},
   "outputs": [
    {
     "name": "stderr",
     "output_type": "stream",
     "text": [
      "d:\\program files\\python35\\lib\\site-packages\\h5py\\__init__.py:36: FutureWarning: Conversion of the second argument of issubdtype from `float` to `np.floating` is deprecated. In future, it will be treated as `np.float64 == np.dtype(float).type`.\n",
      "  from ._conv import register_converters as _register_converters\n"
     ]
    },
    {
     "name": "stdout",
     "output_type": "stream",
     "text": [
      "Vocabulary Size: 933\n",
      "80-20 Train Test split: 4459 -- 1115\n"
     ]
    }
   ],
   "source": [
    "# Create a text cleaning function\n",
    "def clean_text(text_string):\n",
    "    text_string = re.sub(r'([^\\s\\w]|_|[0-9])+','',text_string)\n",
    "    text_string = \" \".join(text_string.split())\n",
    "    text_string = text_string.lower()\n",
    "    return (text_string)\n",
    "\n",
    "# Clean texts\n",
    "text_data_train = [clean_text(x) for x in text_data_train]\n",
    "# Change texts into numeric vectors\n",
    "vocab_processor = tf.contrib.learn.preprocessing.VocabularyProcessor(max_sequence_length,min_frequency=min_word_frequency)\n",
    "text_processed = np.array(list(vocab_processor.fit_transform(text_data_train)))\n",
    "# print(text_processed)\n",
    "\n",
    "# Shuffle and split data\n",
    "text_processed = np.array(text_processed)\n",
    "text_data_target = np.array([1 if x == 'ham' else 0 for x in text_data_target])\n",
    "shuffled_ix = np.random.permutation(np.arange(len(text_data_target)))\n",
    "x_shuffled = text_processed[shuffled_ix]\n",
    "y_shuffled = text_data_target[shuffled_ix]\n",
    "\n",
    "# print(x_shuffled)\n",
    "# print(y_shuffled)\n",
    "# Split train/test set\n",
    "# Split train/test set\n",
    "ix_cutoff = int(len(y_shuffled) * 0.80)\n",
    "x_train, x_test = x_shuffled[:ix_cutoff], x_shuffled[ix_cutoff:]\n",
    "y_train, y_test = y_shuffled[:ix_cutoff], y_shuffled[ix_cutoff:]\n",
    "vocab_size = len(vocab_processor.vocabulary_)\n",
    "print(\"Vocabulary Size: {:d}\".format(vocab_size))\n",
    "print(\"80-20 Train Test split: {:d} -- {:d}\".format(len(y_train), len(y_test)))"
   ]
  },
  {
   "cell_type": "code",
   "execution_count": 18,
   "metadata": {},
   "outputs": [
    {
     "name": "stderr",
     "output_type": "stream",
     "text": [
      "d:\\program files\\python35\\lib\\site-packages\\tensorflow\\python\\ops\\gradients_impl.py:93: UserWarning: Converting sparse IndexedSlices to a dense Tensor of unknown shape. This may consume a large amount of memory.\n",
      "  \"Converting sparse IndexedSlices to a dense Tensor of unknown shape. \"\n"
     ]
    }
   ],
   "source": [
    "# Create placeholders\n",
    "x_data = tf.placeholder(tf.int32, [None, max_sequence_length])\n",
    "y_output = tf.placeholder(tf.int32, [None])\n",
    "# Create embedding\n",
    "embedding_mat = tf.Variable(tf.random_uniform([vocab_size,embedding_size],-1.0,1.0))\n",
    "embedding_output = tf.nn.embedding_lookup(embedding_mat,x_data)\n",
    "# embedding_output_expanded = tf.expand_dims(embedding_output, -1)\n",
    "# Define the RNN cell\n",
    "cell = tf.nn.rnn_cell.BasicRNNCell(num_units=rnn_size)\n",
    "output,state = tf.nn.dynamic_rnn(cell,embedding_output,dtype=tf.float32)\n",
    "output = tf.nn.dropout(output,dropout_keep_prob)\n",
    "# Get output of RNN sequence\n",
    "output = tf.transpose(output,[1,0,2])\n",
    "last = tf.gather(output, int(output.get_shape()[0]) - 1)\n",
    "\n",
    "weight = tf.Variable(tf.truncated_normal([rnn_size,2],stddev=0.1))\n",
    "bias = tf.Variable(tf.constant(0.1,shape=[2]))\n",
    "logits_out = tf.nn.softmax(tf.matmul(last,weight) + bias)\n",
    "\n",
    "# Loss function\n",
    "losses = tf.nn.sparse_softmax_cross_entropy_with_logits(logits=logits_out,labels=y_output)\n",
    "loss = tf.reduce_mean(losses)\n",
    "accuracy = tf.reduce_mean(tf.cast(tf.equal(tf.argmax(logits_out, 1), tf.cast(y_output, tf.int64)), tf.float32))\n",
    "optimizer = tf.train.RMSPropOptimizer(learning_rate)\n",
    "train_step = optimizer.minimize(loss)\n",
    "init = tf.global_variables_initializer()\n",
    "sess.run(init)"
   ]
  },
  {
   "cell_type": "code",
   "execution_count": 19,
   "metadata": {},
   "outputs": [
    {
     "name": "stdout",
     "output_type": "stream",
     "text": [
      "Epoch: 1, Test Loss: 0.71, Test Acc: 0.16\n",
      "Epoch: 2, Test Loss: 0.7, Test Acc: 0.16\n",
      "Epoch: 3, Test Loss: 0.68, Test Acc: 0.84\n",
      "Epoch: 4, Test Loss: 0.66, Test Acc: 0.84\n",
      "Epoch: 5, Test Loss: 0.63, Test Acc: 0.85\n",
      "Epoch: 6, Test Loss: 0.6, Test Acc: 0.85\n",
      "Epoch: 7, Test Loss: 0.57, Test Acc: 0.85\n",
      "Epoch: 8, Test Loss: 0.54, Test Acc: 0.85\n",
      "Epoch: 9, Test Loss: 0.52, Test Acc: 0.85\n",
      "Epoch: 10, Test Loss: 0.51, Test Acc: 0.86\n",
      "Epoch: 11, Test Loss: 0.5, Test Acc: 0.86\n",
      "Epoch: 12, Test Loss: 0.49, Test Acc: 0.87\n",
      "Epoch: 13, Test Loss: 0.48, Test Acc: 0.87\n",
      "Epoch: 14, Test Loss: 0.48, Test Acc: 0.87\n",
      "Epoch: 15, Test Loss: 0.47, Test Acc: 0.87\n",
      "Epoch: 16, Test Loss: 0.46, Test Acc: 0.87\n",
      "Epoch: 17, Test Loss: 0.46, Test Acc: 0.87\n",
      "Epoch: 18, Test Loss: 0.46, Test Acc: 0.87\n",
      "Epoch: 19, Test Loss: 0.45, Test Acc: 0.87\n",
      "Epoch: 20, Test Loss: 0.45, Test Acc: 0.87\n"
     ]
    },
    {
     "data": {
      "image/png": "[encoded data removed]",
      "text/plain": [
       "<matplotlib.figure.Figure at 0x242c8b469b0>"
      ]
     },
     "metadata": {},
     "output_type": "display_data"
    },
    {
     "data": {
      "image/png": "[encoded data removed]",
      "text/plain": [
       "<matplotlib.figure.Figure at 0x242c8d0e588>"
      ]
     },
     "metadata": {},
     "output_type": "display_data"
    }
   ],
   "source": [
    "train_loss = []\n",
    "test_loss = []\n",
    "train_accuracy = []\n",
    "test_accuracy = []\n",
    "# Start training\n",
    "for epoch in range(epochs):\n",
    "    # Shuffle training data\n",
    "    shuffle_ix = np.random.permutation(np.arange(len(x_train)))\n",
    "    x_train = x_train[shuffle_ix]\n",
    "    y_train = y_train[shuffle_ix]\n",
    "    num_batches = int(len(x_train) / batch_size) + 1\n",
    "    for i in range(num_batches):\n",
    "        # Select train data\n",
    "        min_ix = i * batch_size\n",
    "        max_ix = np.min([len(x_train), ((i + 1) * batch_size)])\n",
    "        x_train_batch = x_train[min_ix:max_ix]\n",
    "        y_train_batch = y_train[min_ix:max_ix]\n",
    "\n",
    "        # Run train step\n",
    "        train_dict = {x_data: x_train_batch, y_output: y_train_batch, dropout_keep_prob: 0.5}\n",
    "        sess.run(train_step, feed_dict=train_dict)\n",
    "    # Run loss and accuracy for training\n",
    "    temp_train_loss, temp_train_acc = sess.run([loss, accuracy], feed_dict=train_dict)\n",
    "    train_loss.append(temp_train_loss)\n",
    "    train_accuracy.append(temp_train_acc)\n",
    "    # Run Eval Step\n",
    "    test_dict = {x_data: x_test, y_output: y_test, dropout_keep_prob: 1.0}\n",
    "    temp_test_loss, temp_test_acc = sess.run([loss, accuracy], feed_dict=test_dict)\n",
    "    test_loss.append(temp_test_loss)\n",
    "    test_accuracy.append(temp_test_acc)\n",
    "    print('Epoch: {}, Test Loss: {:.2}, Test Acc: {:.2}'.format(epoch + 1, temp_test_loss, temp_test_acc))\n",
    "\n",
    "# Plot loss over time\n",
    "epoch_seq = np.arange(1, epochs + 1)\n",
    "plt.plot(epoch_seq, train_loss, 'k--', label='Train Set')\n",
    "plt.plot(epoch_seq, test_loss, 'r-', label='Test Set')\n",
    "plt.title('Softmax Loss')\n",
    "plt.xlabel('Epochs')\n",
    "plt.ylabel('Softmax Loss')\n",
    "plt.legend(loc='upper left')\n",
    "plt.show()\n",
    "\n",
    "# Plot accuracy over time\n",
    "plt.plot(epoch_seq, train_accuracy, 'k--', label='Train Set')\n",
    "plt.plot(epoch_seq, test_accuracy, 'r-', label='Test Set')\n",
    "plt.title('Test Accuracy')\n",
    "plt.xlabel('Epochs')\n",
    "plt.ylabel('Accuracy')\n",
    "plt.legend(loc='upper left')\n",
    "plt.show()"
   ]
  },
  {
   "cell_type": "code",
   "execution_count": null,
   "metadata": {},
   "outputs": [],
   "source": []
  }
 ],
 "metadata": {
  "kernelspec": {
   "display_name": "Python 3",
   "language": "python",
   "name": "python3"
  },
  "language_info": {
   "codemirror_mode": {
    "name": "ipython",
    "version": 3
   },
   "file_extension": ".py",
   "mimetype": "text/x-python",
   "name": "python",
   "nbconvert_exporter": "python",
   "pygments_lexer": "ipython3",
   "version": "3.5.3"
  }
 },
 "nbformat": 4,
 "nbformat_minor": 2
}
