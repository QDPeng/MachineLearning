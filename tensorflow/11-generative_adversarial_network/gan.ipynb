{
 "cells": [
  {
   "cell_type": "code",
   "execution_count": 1,
   "metadata": {},
   "outputs": [],
   "source": [
    "import matplotlib.pyplot as plt\n",
    "import numpy as np\n",
    "import tensorflow as tf\n",
    "%matplotlib inline"
   ]
  },
  {
   "cell_type": "code",
   "execution_count": 2,
   "metadata": {},
   "outputs": [],
   "source": [
    "LENGTH = 1000  # 每一个样本由1000个\n",
    "def sample_data(size,length=100):\n",
    "    \"\"\"\n",
    "    生成均值为4方差为1.5的正态分布随机数据，并排序\n",
    "    \"\"\"\n",
    "    data=[]\n",
    "    for _ in range(size):\n",
    "        datas = sorted(np.random.normal(4,1.5,length))\n",
    "        data.append(datas)\n",
    "    return np.array(data)\n",
    "\n",
    "def random_noise(size,length=100):\n",
    "    \"\"\"\n",
    "    生成随机噪声\n",
    "    \"\"\"\n",
    "    data=[]\n",
    "    for _ in range(size):\n",
    "        x = np.random.random(length)\n",
    "        data.append(x)\n",
    "        \n",
    "    return np.array(data)\n",
    "def preprocess_data(x):\n",
    "    \"\"\"\n",
    "    计算每一组数据的均值和方差\n",
    "    \"\"\"\n",
    "    return [[np.mean(data),np.std(data)] for data in x]\n"
   ]
  },
  {
   "cell_type": "code",
   "execution_count": 3,
   "metadata": {},
   "outputs": [],
   "source": [
    "tf.reset_default_graph()\n",
    "x = tf.placeholder(tf.float32,shape=[None,2],name=\"feature\") #[mean,std]\n",
    "y = tf.placeholder(tf.float32,shape=[None,1],name=\"label\")\n",
    "in_size = LENGTH\n",
    "out_size = LENGTH\n",
    "###########构造生成器网络结构 G##########\n",
    "#第一层\n",
    "z = tf.placeholder(tf.float32,shape=[None,LENGTH],name=\"noise\") #随机值噪音\n",
    "Weights = tf.Variable(tf.random_normal([in_size,32]))\n",
    "biases = tf.Variable(tf.zeros([1,32]) + 0.1)\n",
    "G_output = tf.matmul(z,Weights) + biases\n",
    "G_output = tf.nn.relu(G_output)\n",
    "#第二层\n",
    "Weights2 = tf.Variable(tf.random_normal([32,32]))\n",
    "biases2 = tf.Variable(tf.zeros([1,32]) + 0.1)\n",
    "G_output2 = tf.nn.sigmoid(tf.matmul(G_output,Weights2) + biases2)\n",
    "#第三层\n",
    "Weights3 = tf.Variable(tf.random_normal([32,out_size]))\n",
    "biases3 = tf.Variable(tf.zeros([1,out_size]) + 0.1)\n",
    "G_output3 = tf.matmul(G_output2,Weights3) + biases3\n",
    "\n",
    "#G 的参数列表\n",
    "G_params = [Weights,biases,Weights2,biases2,Weights3,biases3]\n",
    "\n",
    "##################判别器网络结构 （预训练的D）\n",
    "#第一层\n",
    "dWeights = tf.Variable(tf.random_normal([2,32]),name=\"D_W\")\n",
    "dbiases = tf.Variable(tf.zeros([1,32]) + 0.1,name = \"D_b\")\n",
    "D_output = tf.nn.relu(tf.matmul(x,dWeights) + dbiases)\n",
    "#第二层\n",
    "dWeights2 = tf.Variable(tf.random_normal([32,32]),name=\"D_W2\")\n",
    "dbiases2 = tf.Variable(tf.zeros([1,32]) + 0.1,name=\"D_b2\")\n",
    "D_output2 = tf.nn.sigmoid(tf.matmul(D_output,dWeights2) + dbiases2)\n",
    "#第三层\n",
    "dWeights3 = tf.Variable(tf.random_normal([32,1]),name=\"D_W3\")\n",
    "dbiases3 = tf.Variable(tf.zeros([1,1]) + 0.1,name=\"D_b3\")\n",
    "D_output3 = tf.nn.sigmoid(tf.matmul(D_output2,dWeights3) + dbiases3)\n",
    "# D的参数列表\n",
    "D_params = [dWeights,dbiases,dWeights2,dbiases2,dWeights3,dbiases3]\n",
    "\n",
    "#####GAN的结构###########\n",
    "#先求出生成模型G中各行的平均值和方差\n",
    "mean = tf.reduce_mean(G_output3,axis=1) #行向量上\n",
    "mean_t= tf.transpose(tf.expand_dims(mean,axis=0)) #0轴上扩维并装置\n",
    "std = tf.sqrt(tf.reduce_mean(tf.square(G_output3 - mean_t),axis=1))\n",
    "std_t = tf.transpose(tf.expand_dims(std,axis=0))\n",
    "data = tf.concat([mean_t,std_t],axis=1) # 在第一维上进行矩阵连接\n",
    "\n",
    "###GAN中的判别模型D\n",
    "gan_Weights = tf.Variable(tf.random_normal([2,32]),name=\"gan_W\")\n",
    "gan_biases = tf.Variable(tf.zeros([1,32]) + 0.1,name=\"gan_b\")\n",
    "gan_output = tf.nn.relu(tf.matmul(data,gan_Weights) + gan_biases)\n",
    "##GAN中第二层\n",
    "gan_Weights2 = tf.Variable(tf.random_normal([32,32]),name=\"gan_W2\")\n",
    "gan_biases2 = tf.Variable(tf.zeros([1,32]) + 0.1,name=\"gan_b2\")\n",
    "gan_output2 = tf.nn.sigmoid(tf.matmul(gan_output,gan_Weights2) + gan_biases)\n",
    "##第三层\n",
    "gan_Weights3 = tf.Variable(tf.random_normal([32,1]),name=\"gan_W3\")\n",
    "gan_biases3 = tf.Variable(tf.zeros([1,1]) + 0.1,name=\"gan_b3\")\n",
    "gan_output3 = tf.nn.sigmoid(tf.matmul(gan_output2,gan_Weights3) + gan_biases3)\n",
    "\n",
    "gan_D_params = [gan_Weights,gan_biases,gan_Weights2,gan_biases2,gan_Weights3,gan_biases3]\n",
    "\n",
    "\n"
   ]
  },
  {
   "cell_type": "code",
   "execution_count": 4,
   "metadata": {},
   "outputs": [],
   "source": [
    "##定义损失函数\n",
    "#D的二分类交叉熵\n",
    "d_loss = tf.reduce_mean(tf.nn.sigmoid_cross_entropy_with_logits(logits=D_output3,labels=y))\n",
    "#gan 的二分类交叉熵\n",
    "gan_loss = tf.reduce_mean(tf.nn.sigmoid_cross_entropy_with_logits(logits=gan_output3,labels=y))\n",
    "#定义优化器\n",
    "d_optimizer = tf.train.GradientDescentOptimizer(0.01).minimize(\n",
    "    loss=d_loss,\n",
    "    global_step=tf.Variable(0),\n",
    "    var_list=D_params\n",
    ")\n",
    "gan_optimizer = tf.train.GradientDescentOptimizer(0.01).minimize(\n",
    "    loss=gan_loss,\n",
    "    global_step=tf.Variable(0),\n",
    "    var_list=G_params\n",
    ")"
   ]
  },
  {
   "cell_type": "code",
   "execution_count": 5,
   "metadata": {},
   "outputs": [
    {
     "name": "stdout",
     "output_type": "stream",
     "text": [
      "begin train GAN....\n",
      "[   0] GAN-d-loss: 0.580556273460  GAN-g-loss: 0.585608661175   generate-mean: 0.2116   generate-std: 3.9548\n",
      "[  20] GAN-d-loss: 0.513905823231  GAN-g-loss: 0.681111931801   generate-mean: 0.1123   generate-std: 3.7617\n",
      "[  40] GAN-d-loss: 0.509921014309  GAN-g-loss: 0.686247587204   generate-mean: 0.1330   generate-std: 3.3142\n",
      "[  60] GAN-d-loss: 0.508007943630  GAN-g-loss: 0.688097059727   generate-mean: 0.1367   generate-std: 3.4045\n",
      "[  80] GAN-d-loss: 0.506953358650  GAN-g-loss: 0.689218282700   generate-mean: 0.2508   generate-std: 3.9265\n",
      "[ 100] GAN-d-loss: 0.506333529949  GAN-g-loss: 0.689893126488   generate-mean: 0.2438   generate-std: 3.2991\n",
      "[ 120] GAN-d-loss: 0.505889773369  GAN-g-loss: 0.690385222435   generate-mean: 0.2512   generate-std: 3.6774\n",
      "[ 140] GAN-d-loss: 0.505571782589  GAN-g-loss: 0.690713405609   generate-mean: 0.3395   generate-std: 3.3813\n",
      "[ 160] GAN-d-loss: 0.505317628384  GAN-g-loss: 0.690986454487   generate-mean: 0.1672   generate-std: 3.6617\n",
      "[ 180] GAN-d-loss: 0.505110979080  GAN-g-loss: 0.691193997860   generate-mean: 0.2223   generate-std: 3.1167\n",
      "[ 199] GAN-d-loss: 0.504955530167  GAN-g-loss: 0.691346764565   generate-mean: 0.1803   generate-std: 3.8827\n"
     ]
    }
   ],
   "source": [
    "d_loss_history = []\n",
    "g_loss_history = []\n",
    "epoch = 200\n",
    "with tf.Session() as sess:\n",
    "    sess.run(tf.global_variables_initializer())\n",
    "    #GAN 博弈开始\n",
    "    print('begin train GAN....')\n",
    "    for step in range(epoch):\n",
    "        #先进行GAN中D的训练，即对生成样本的判断\n",
    "        for _ in range(100):\n",
    "            # 使用G生成一批样本\n",
    "            real = sample_data(100,length=LENGTH)\n",
    "            noise = random_noise(100,length=LENGTH)\n",
    "            generate = sess.run(G_output3,feed_dict={z:noise}) #生成样本噪声\n",
    "            X = list(real) + list(generate)\n",
    "            X = preprocess_data(X)\n",
    "            Y = [[1] for _ in range(len(real))] + [[0] for _ in range(len(generate))]\n",
    "            #预训练的判别器模型D损失\n",
    "            d_loss_value,_ = sess.run([d_loss,d_optimizer],feed_dict={x:X,y:Y}) # 训练判别网络\n",
    "            d_loss_history.append(d_loss_value)\n",
    "        \n",
    "        #获取预训练模型D中的参数\n",
    "        dp_value = sess.run(D_params)\n",
    "        #将参数移到GAN中判别模型D中\n",
    "        for i,v in enumerate(gan_D_params):\n",
    "            sess.run(v.assign(dp_value[i]))\n",
    "        for _ in range(100):\n",
    "            noise = random_noise(100,length=LENGTH)\n",
    "            gan_loss_value,_ = sess.run([gan_loss,gan_optimizer],feed_dict={\n",
    "                z:noise,\n",
    "                y:[[1] for _ in range(len(noise))]  # 混肴为目标,不需要加入x，我们只是借助G，并不需要训练G\n",
    "            })# 调整G，让GAN的误差减少\n",
    "            g_loss_history.append(gan_loss_value)\n",
    "        if step % 20 == 0 or step+1 == epoch:\n",
    "            noise = random_noise(1,length=LENGTH)\n",
    "            generate = sess.run(G_output3, feed_dict={\n",
    "                z: noise\n",
    "            })\n",
    "            print(\"[%4d] GAN-d-loss: %.12f  GAN-g-loss: %.12f   generate-mean: %.4f   generate-std: %.4f\" % (step,\n",
    "                            d_loss_value, gan_loss_value,generate.mean() ,generate.std() ))\n",
    "            "
   ]
  },
  {
   "cell_type": "code",
   "execution_count": 6,
   "metadata": {},
   "outputs": [
    {
     "data": {
      "text/plain": [
       "[<matplotlib.lines.Line2D at 0x2279cf4bda0>]"
      ]
     },
     "execution_count": 6,
     "metadata": {},
     "output_type": "execute_result"
    },
    {
     "data": {
      "image/png": "[encoded data removed]",
      "text/plain": [
       "<matplotlib.figure.Figure at 0x227937407f0>"
      ]
     },
     "metadata": {},
     "output_type": "display_data"
    }
   ],
   "source": [
    "plt.subplot(211)\n",
    "plt.plot(d_loss_history)\n",
    "a = plt.subplot(212)\n",
    "plt.plot(g_loss_history,c=\"g\")"
   ]
  },
  {
   "cell_type": "code",
   "execution_count": 7,
   "metadata": {},
   "outputs": [
    {
     "data": {
      "text/plain": [
       "[<matplotlib.lines.Line2D at 0x2279d00ada0>]"
      ]
     },
     "execution_count": 7,
     "metadata": {},
     "output_type": "execute_result"
    },
    {
     "data": {
      "image/png": "[encoded data removed]",
      "text/plain": [
       "<matplotlib.figure.Figure at 0x2279cf4bcf8>"
      ]
     },
     "metadata": {},
     "output_type": "display_data"
    }
   ],
   "source": [
    "real = sample_data(1,length=LENGTH)\n",
    "(data, bins) = np.histogram(real[0])\n",
    "plt.plot(bins[:-1], data, c=\"g\")\n",
    "\n",
    "\n",
    "(data, bins) = np.histogram(noise[0])\n",
    "plt.plot(bins[:-1], data, c=\"b\")\n",
    "\n",
    "# with tf.Session() as sess:\n",
    "#     sess.run(tf.global_variables_initializer())\n",
    "#     generate = sess.run(G_output3, feed_dict={\n",
    "#             z: noise\n",
    "#     })\n",
    "(data, bins) = np.histogram(generate[0])\n",
    "plt.plot(bins[:-1], data, c=\"r\")"
   ]
  },
  {
   "cell_type": "code",
   "execution_count": 8,
   "metadata": {},
   "outputs": [
    {
     "data": {
      "text/plain": [
       "array([1.31326169, 0.69314718])"
      ]
     },
     "execution_count": 8,
     "metadata": {},
     "output_type": "execute_result"
    }
   ],
   "source": [
    "#x - x * z + log(1 + exp(-x))\n",
    "\n",
    "pre = np.array([1,0])\n",
    "real = np.array([0,1])\n",
    "\n",
    "pre-pre*real + np.log(1+np.exp(-pre))"
   ]
  },
  {
   "cell_type": "code",
   "execution_count": null,
   "metadata": {},
   "outputs": [],
   "source": []
  }
 ],
 "metadata": {
  "kernelspec": {
   "display_name": "Python 3",
   "language": "python",
   "name": "python3"
  },
  "language_info": {
   "codemirror_mode": {
    "name": "ipython",
    "version": 3
   },
   "file_extension": ".py",
   "mimetype": "text/x-python",
   "name": "python",
   "nbconvert_exporter": "python",
   "pygments_lexer": "ipython3",
   "version": "3.5.3"
  }
 },
 "nbformat": 4,
 "nbformat_minor": 2
}
