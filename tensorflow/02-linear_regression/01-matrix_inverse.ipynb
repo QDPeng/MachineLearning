{
 "cells": [
  {
   "cell_type": "code",
   "execution_count": 1,
   "metadata": {},
   "outputs": [],
   "source": [
    "# Linear Regression: Inverse Matrix Method\n",
    "# ----------------------------------\n",
    "#\n",
    "# This function shows how to use Tensorflow to\n",
    "# solve linear regression via the matrix inverse.\n",
    "#\n",
    "# Given Ax=b, solving for x:\n",
    "#  x = (t(A) * A)^(-1) * t(A) * b\n",
    "#  where t(A) is the transpose of A\n",
    "\n",
    "import matplotlib.pyplot as plt\n",
    "import numpy as np\n",
    "import tensorflow as tf\n",
    "from tensorflow.python.framework import ops\n",
    "ops.reset_default_graph()\n",
    "# Create graph\n",
    "sess = tf.Session()"
   ]
  },
  {
   "cell_type": "code",
   "execution_count": 36,
   "metadata": {},
   "outputs": [
    {
     "name": "stdout",
     "output_type": "stream",
     "text": [
      "Tensor(\"Const_8:0\", shape=(100, 2), dtype=float64) Tensor(\"Const_9:0\", shape=(100, 1), dtype=float64)\n"
     ]
    }
   ],
   "source": [
    "# Create the data\n",
    "x_vals = np.linspace(0,10,100)\n",
    "y_vals = x_vals + np.random.normal(0,1,100)\n",
    "# print(y_vals)\n",
    "# print(np.random.normal(0,1,100))\n",
    "# help(np.linspace)\n",
    "x_vals_column = np.transpose(np.matrix(x_vals))\n",
    "ones_column = np.transpose(np.matrix(np.repeat(1,100)))\n",
    "A= np.column_stack((x_vals_column,ones_column))\n",
    "# Create b matrix\n",
    "B = np.transpose(np.matrix(y_vals))\n",
    "# Create tensors\n",
    "A_tensor = tf.constant(A)\n",
    "B_tensor = tf.constant(B)\n",
    "print(A_tensor,B_tensor)"
   ]
  },
  {
   "cell_type": "code",
   "execution_count": 26,
   "metadata": {},
   "outputs": [
    {
     "name": "stdout",
     "output_type": "stream",
     "text": [
      "Tensor(\"MatMul_16:0\", shape=(2, 2), dtype=float64)\n",
      "solution_eval: [[ 1.01064917]\n",
      " [-0.13259232]]\n"
     ]
    }
   ],
   "source": [
    "# Matrix inverse solution\n",
    "t_AA=tf.matmul(tf.transpose(A_tensor),A_tensor)\n",
    "print(t_AA)\n",
    "t_AA_inv = tf.matrix_inverse(t_AA)\n",
    "product = tf.matmul(t_AA_inv,tf.transpose(A_tensor))\n",
    "solution = tf.matmul(product,B_tensor)\n",
    "solution_eval = sess.run(solution)\n",
    "print(\"solution_eval:\", solution_eval)"
   ]
  },
  {
   "cell_type": "code",
   "execution_count": 30,
   "metadata": {},
   "outputs": [
    {
     "name": "stdout",
     "output_type": "stream",
     "text": [
      "slope: 1.01064916763\n",
      "y_intercept: -0.13259232256\n"
     ]
    }
   ],
   "source": [
    "# Extract coefficients\n",
    "slope = solution_eval[0][0]\n",
    "y_intercept = solution_eval[1][0]\n",
    "print('slope: ' + str(slope))\n",
    "print('y_intercept: ' + str(y_intercept))"
   ]
  },
  {
   "cell_type": "code",
   "execution_count": 34,
   "metadata": {},
   "outputs": [
    {
     "data": {
      "image/png": "[encoded data removed]",
      "text/plain": [
       "<matplotlib.figure.Figure at 0x2a637c972b0>"
      ]
     },
     "metadata": {},
     "output_type": "display_data"
    }
   ],
   "source": [
    "# Get best fit line\n",
    "best_fit = []\n",
    "for i in x_vals:\n",
    "    best_fit.append(slope*i + y_intercept)\n",
    "    \n",
    "# Plot the results\n",
    "plt.plot(x_vals,y_vals,'o',label=\"Data\")\n",
    "plt.plot(x_vals, best_fit, 'r-', label='Best fit line', linewidth=3)\n",
    "plt.legend(loc='upper left')\n",
    "plt.show()"
   ]
  },
  {
   "cell_type": "code",
   "execution_count": null,
   "metadata": {},
   "outputs": [],
   "source": []
  }
 ],
 "metadata": {
  "kernelspec": {
   "display_name": "Python 3",
   "language": "python",
   "name": "python3"
  },
  "language_info": {
   "codemirror_mode": {
    "name": "ipython",
    "version": 3
   },
   "file_extension": ".py",
   "mimetype": "text/x-python",
   "name": "python",
   "nbconvert_exporter": "python",
   "pygments_lexer": "ipython3",
   "version": "3.5.3"
  }
 },
 "nbformat": 4,
 "nbformat_minor": 2
}
