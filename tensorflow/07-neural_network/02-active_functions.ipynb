{
 "cells": [
  {
   "cell_type": "code",
   "execution_count": 8,
   "metadata": {},
   "outputs": [],
   "source": [
    "import tensorflow as tf\n",
    "import numpy as np\n",
    "import matplotlib.pyplot as plt\n",
    "from tensorflow.python.framework import ops\n",
    "ops.reset_default_graph()\n",
    "# session\n",
    "sess = tf.Session()\n",
    "tf.set_random_seed(5)\n",
    "np.random.seed(42)\n",
    "batch_size = 50\n",
    "\n",
    "a1 = tf.Variable(tf.random_normal(shape=[1,1]))\n",
    "b1 = tf.Variable(tf.random_uniform(shape=[1,1]))\n",
    "a2 = tf.Variable(tf.random_normal(shape=[1,1]))\n",
    "b2 = tf.Variable(tf.random_uniform(shape=[1,1]))\n",
    "x = np.random.normal(2,0.1,500)\n",
    "\n",
    "# init = tf.global_variables_initializer()\n",
    "# sess.run(init)\n",
    "# print(sess.run(a1),sess.run(b1),x)"
   ]
  },
  {
   "cell_type": "code",
   "execution_count": 11,
   "metadata": {},
   "outputs": [],
   "source": [
    "x_data = tf.placeholder(shape=[None,1],dtype=tf.float32)\n",
    "sigmoid_activation = tf.sigmoid(tf.add(tf.matmul(x_data,a1),b1))\n",
    "relu_activation = tf.nn.relu(tf.add(tf.matmul(x_data,a2),b2))\n",
    "# Declare the loss function as the difference between\n",
    "# the output and a target value, 0.75.\n",
    "loss1 = tf.reduce_mean(tf.square(tf.subtract(sigmoid_activation,0.75)))\n",
    "loss2 = tf.reduce_mean(tf.square(tf.subtract(relu_activation,0.75)))\n",
    "# help(tf.reduce_mean)"
   ]
  },
  {
   "cell_type": "code",
   "execution_count": 29,
   "metadata": {},
   "outputs": [
    {
     "name": "stdout",
     "output_type": "stream",
     "text": [
      "\n",
      "Optimizing Sigmoid AND Relu Output to 0.75\n",
      "sigmoid = 0.285764 relu = 0.0 a1=[[-0.6961062]] b1=[[ 0.48240441]]\n",
      "sigmoid = 0.388569 relu = 0.0 a1=[[-0.51316565]] b1=[[ 0.57392448]]\n",
      "sigmoid = 0.483848 relu = 0.0 a1=[[-0.35964698]] b1=[[ 0.6506322]]\n",
      "sigmoid = 0.554093 relu = 0.0 a1=[[-0.2448626]] b1=[[ 0.70796311]]\n",
      "sigmoid = 0.60516 relu = 0.0 a1=[[-0.16212055]] b1=[[ 0.74925166]]\n",
      "sigmoid = 0.639502 relu = 0.0 a1=[[-0.10215653]] b1=[[ 0.77913648]]\n",
      "sigmoid = 0.664873 relu = 0.0 a1=[[-0.0580206]] b1=[[ 0.80117887]]\n",
      "sigmoid = 0.683079 relu = 0.0 a1=[[-0.02471659]] b1=[[ 0.81781459]]\n",
      "sigmoid = 0.696875 relu = 0.0 a1=[[ 0.00090786]] b1=[[ 0.83060825]]\n",
      "sigmoid = 0.707339 relu = 0.0 a1=[[ 0.02091184]] b1=[[ 0.8406021]]\n"
     ]
    }
   ],
   "source": [
    "init = tf.global_variables_initializer()\n",
    "sess.run(init)\n",
    "optimizer = tf.train.GradientDescentOptimizer(0.01)\n",
    "train_step_sigmoid = optimizer.minimize(loss1)\n",
    "train_step_relu = optimizer.minimize(loss2)\n",
    "# Run loop across gate\n",
    "print('\\nOptimizing Sigmoid AND Relu Output to 0.75')\n",
    "loss_vec_sigmoid = []\n",
    "loss_vec_relu = []\n",
    "\n",
    "# rand_index = np.random.choice(len(x),size=5)\n",
    "# print(rand_index)\n",
    "# x_vals = np.transpose(x[rand_index])\n",
    "# print(x_vals)\n",
    "for step in range(500):\n",
    "    rand_index = np.random.choice(len(x),size=batch_size)\n",
    "    x_vals = np.transpose([x[rand_index]])\n",
    "    sess.run(train_step_sigmoid,feed_dict={x_data: x_vals})\n",
    "    sess.run(train_step_relu,feed_dict={x_data: x_vals})\n",
    "    \n",
    "    loss_vec_sigmoid.append(sess.run(loss1,feed_dict={x_data: x_vals}))\n",
    "    loss_vec_relu.append(sess.run(loss2,feed_dict={x_data: x_vals}))\n",
    "    \n",
    "    output_sigmoid = sess.run(sigmoid_activation,feed_dict={x_data: x_vals})\n",
    "    output_relu = sess.run(relu_activation,feed_dict={x_data: x_vals})\n",
    "    if step % 50 == 0:\n",
    "        print('sigmoid = ' + str(np.mean(output_sigmoid)) + ' relu = ' + str(np.mean(output_relu)) + \" a1=\" + str(sess.run(a1)) + \" b1=\" + str(sess.run(b1)))"
   ]
  },
  {
   "cell_type": "code",
   "execution_count": 33,
   "metadata": {},
   "outputs": [
    {
     "data": {
      "image/png": "[encoded data removed]",
      "text/plain": [
       "<matplotlib.figure.Figure at 0x23d5a463240>"
      ]
     },
     "metadata": {},
     "output_type": "display_data"
    }
   ],
   "source": [
    "# Plot the loss\n",
    "plt.plot(loss_vec_sigmoid, 'k-', label='Sigmoid Activation')\n",
    "plt.plot(loss_vec_relu, 'r--', label='Relu Activation')\n",
    "plt.ylim([0, 1.0])\n",
    "plt.title('Loss per Generation')\n",
    "plt.xlabel('Generation')\n",
    "plt.ylabel('Loss')\n",
    "plt.legend(loc='upper left')\n",
    "plt.show()"
   ]
  }
 ],
 "metadata": {
  "kernelspec": {
   "display_name": "Python 3",
   "language": "python",
   "name": "python3"
  },
  "language_info": {
   "codemirror_mode": {
    "name": "ipython",
    "version": 3
   },
   "file_extension": ".py",
   "mimetype": "text/x-python",
   "name": "python",
   "nbconvert_exporter": "python",
   "pygments_lexer": "ipython3",
   "version": "3.5.3"
  }
 },
 "nbformat": 4,
 "nbformat_minor": 2
}
