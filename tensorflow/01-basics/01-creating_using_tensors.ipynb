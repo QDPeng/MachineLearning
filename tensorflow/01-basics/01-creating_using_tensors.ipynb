{
 "cells": [
  {
   "cell_type": "code",
   "execution_count": 1,
   "metadata": {},
   "outputs": [
    {
     "name": "stdout",
     "output_type": "stream",
     "text": [
      "<tensorflow.python.client.session.Session object at 0x000001E43F6645F8>\n"
     ]
    }
   ],
   "source": [
    "# This function introduces various ways to create\n",
    "# tensors in Tensorflow\n",
    "import tensorflow as tf\n",
    "from tensorflow.python.framework import ops\n",
    "\n",
    "ops.reset_default_graph()\n",
    "# Introduce tensors in tf\n",
    "# Get graph handle\n",
    "sess = tf.Session()\n",
    "print(sess)\n"
   ]
  },
  {
   "cell_type": "code",
   "execution_count": 4,
   "metadata": {},
   "outputs": [
    {
     "name": "stdout",
     "output_type": "stream",
     "text": [
      "Tensor(\"zeros_2:0\", shape=(1, 20), dtype=float32)\n",
      "<tensorflow.python.ops.init_ops.Zeros object at 0x000001E43FD2F208>\n"
     ]
    }
   ],
   "source": [
    "my_tensor = tf.zeros([1,20])\n",
    "my_tensor_ini = tf.zeros_initializer()\n",
    "#my_tensor_like = tf.zeros_like()\n",
    "print(my_tensor)\n",
    "print(my_tensor_ini)\n",
    "#print(my_tensor_like)"
   ]
  },
  {
   "cell_type": "code",
   "execution_count": 5,
   "metadata": {},
   "outputs": [
    {
     "name": "stdout",
     "output_type": "stream",
     "text": [
      "<tf.Variable 'Variable:0' shape=(1, 20) dtype=float32_ref>\n",
      "<tf.Variable 'Variable_1:0' shape=(2, 3) dtype=float32_ref>\n",
      "<tf.Variable 'Variable_2:0' shape=(2, 3) dtype=float32_ref>\n"
     ]
    }
   ],
   "source": [
    "# Declare a variable\n",
    "my_var = tf.Variable(tf.zeros([1,20]))\n",
    "# Different kinds of variables\n",
    "row_dim = 2\n",
    "col_dim = 3\n",
    "# Zero initialized variable\n",
    "zero_var = tf.Variable(tf.zeros([row_dim,col_dim]))\n",
    "# One initialized variable\n",
    "one_var = tf.Variable(tf.ones([row_dim,col_dim]))\n",
    "print(my_var)\n",
    "print(zero_var)\n",
    "print(one_var)\n"
   ]
  },
  {
   "cell_type": "code",
   "execution_count": 9,
   "metadata": {},
   "outputs": [],
   "source": [
    "# shaped like other variable\n",
    "sess.run(zero_var.initializer)\n",
    "sess.run(one_var.initializer)"
   ]
  },
  {
   "cell_type": "code",
   "execution_count": 10,
   "metadata": {},
   "outputs": [
    {
     "name": "stdout",
     "output_type": "stream",
     "text": [
      "<tf.Variable 'Variable_3:0' shape=(2, 3) dtype=float32_ref>\n",
      "<tf.Variable 'Variable_4:0' shape=(2, 3) dtype=float32_ref>\n"
     ]
    }
   ],
   "source": [
    "zero_similar = tf.Variable(tf.zeros_like(zero_var))\n",
    "ones_similar = tf.Variable(tf.ones_like(one_var))\n",
    "print(zero_similar)\n",
    "print(ones_similar)"
   ]
  },
  {
   "cell_type": "code",
   "execution_count": 16,
   "metadata": {},
   "outputs": [],
   "source": [
    "# Fill shape with a constant\n",
    "fill_var = tf.Variable(tf.fill([row_dim,col_dim],-1))\n",
    "# Create a variable from a constant\n",
    "const_var = tf.Variable(tf.constant([1,2,3,4,5,6,7]))\n",
    "# This can also be used to fill an array:\n",
    "const_fill_var = tf.Variable(tf.constant(-1,shape=[row_dim,col_dim]))\n",
    "# Sequence generation\n",
    "linear_var = tf.Variable(tf.linspace(start=0.0,stop=1.0,num=3))# Generates [0.0, 0.5, 1.0] includes the end\n",
    "sequence_var = tf.Variable(tf.range(start=6,limit=15,delta=3))# Generates [6, 9, 12] doesn't include the end\n",
    "# Random Normal\n",
    "rnorm_var = tf.random_normal([row_dim,col_dim],mean=0.0,stddev=1.0)"
   ]
  },
  {
   "cell_type": "code",
   "execution_count": 26,
   "metadata": {},
   "outputs": [
    {
     "name": "stdout",
     "output_type": "stream",
     "text": [
      "[1 2 3 4 5 6 7]\n",
      "[[-1 -1 -1]\n",
      " [-1 -1 -1]]\n"
     ]
    }
   ],
   "source": [
    "# Initialize operation\n",
    "initialize_op = tf.global_variables_initializer()\n",
    "# merged = tf.merge_all_summaries()\n",
    "# Run initialization of variable\n",
    "sess.run(initialize_op)\n",
    "print(sess.run(const_var))\n",
    "print(sess.run(const_fill_var))"
   ]
  },
  {
   "cell_type": "code",
   "execution_count": 23,
   "metadata": {},
   "outputs": [
    {
     "name": "stdout",
     "output_type": "stream",
     "text": [
      "[[ 0.08466251  0.75764555  0.03826912  0.07103471]\n",
      " [ 0.7834745   0.56204587  0.17192082  0.78158969]\n",
      " [ 0.96857929  0.51628798  0.50791281  0.40980497]\n",
      " [ 0.8227039   0.36286679  0.70083344  0.78929722]]\n"
     ]
    }
   ],
   "source": [
    "# Using Placeholders\n",
    "import numpy as np\n",
    "x = tf.placeholder(tf.float32,shape=(4,4))\n",
    "y = tf.identity(x)\n",
    "rand_array = np.random.rand(4,4)\n",
    "print(sess.run(y,feed_dict={x:rand_array}))\n",
    "\n",
    "\n",
    "\n"
   ]
  },
  {
   "cell_type": "code",
   "execution_count": null,
   "metadata": {},
   "outputs": [],
   "source": []
  }
 ],
 "metadata": {
  "kernelspec": {
   "display_name": "Python 3",
   "language": "python",
   "name": "python3"
  },
  "language_info": {
   "codemirror_mode": {
    "name": "ipython",
    "version": 3
   },
   "file_extension": ".py",
   "mimetype": "text/x-python",
   "name": "python",
   "nbconvert_exporter": "python",
   "pygments_lexer": "ipython3",
   "version": "3.5.3"
  }
 },
 "nbformat": 4,
 "nbformat_minor": 2
}
