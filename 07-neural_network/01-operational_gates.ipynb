{
 "cells": [
  {
   "cell_type": "code",
   "execution_count": 17,
   "metadata": {},
   "outputs": [
    {
     "name": "stdout",
     "output_type": "stream",
     "text": [
      "4.0\n"
     ]
    }
   ],
   "source": [
    "# Implementing Gates\n",
    "#----------------------------------\n",
    "#\n",
    "# This function shows how to implement\n",
    "# various gates in Tensorflow\n",
    "#\n",
    "# One gate will be one operation with\n",
    "# a variable and a placeholder.\n",
    "# We will ask Tensorflow to change the\n",
    "# variable based on our loss function\n",
    "\n",
    "import tensorflow as tf\n",
    "from tensorflow.python.framework import ops\n",
    "ops.reset_default_graph()\n",
    "\n",
    "# Start Graph Session\n",
    "sess = tf.Session()\n",
    "\n",
    "#----------------------------------\n",
    "# Create a multiplication gate:\n",
    "#   f(x) = a * x\n",
    "#\n",
    "#  a --\n",
    "#      |\n",
    "#      |---- (multiply) --> output\n",
    "#  x --|\n",
    "#\n",
    "a = tf.Variable(tf.constant(4.))\n",
    "x_val = 5.\n",
    "x_data = tf.placeholder(dtype=tf.float32)\n",
    "multiplication = tf.multiply(a,x_data)\n",
    "# Declare the loss function as the difference between\n",
    "# the output and a target value, 50.\n",
    "loss = tf.square(tf.subtract(multiplication,50.))\n",
    "# Initialize variables\n",
    "init = tf.global_variables_initializer()\n",
    "sess.run(init)\n",
    "# Declare optimizer\n",
    "optimizer = tf.train.GradientDescentOptimizer(0.001)\n",
    "train_step = optimizer.minimize(loss)\n",
    "print(sess.run(a))"
   ]
  },
  {
   "cell_type": "code",
   "execution_count": 18,
   "metadata": {},
   "outputs": [
    {
     "name": "stdout",
     "output_type": "stream",
     "text": [
      "Optimizing a Multiplication Gate Output to 50.\n",
      "4.3 * 5.0 = 21.5\n",
      "4.585 * 5.0 = 22.925\n",
      "4.85575 * 5.0 = 24.2788\n",
      "5.11296 * 5.0 = 25.5648\n",
      "5.35731 * 5.0 = 26.7866\n",
      "5.58945 * 5.0 = 27.9472\n",
      "5.80998 * 5.0 = 29.0499\n",
      "6.01948 * 5.0 = 30.0974\n",
      "6.2185 * 5.0 = 31.0925\n",
      "6.40758 * 5.0 = 32.0379\n"
     ]
    }
   ],
   "source": [
    "# Run loop across gate\n",
    "print('Optimizing a Multiplication Gate Output to 50.')\n",
    "for step in range(10):\n",
    "    sess.run(train_step,feed_dict={x_data: x_val})\n",
    "    a_val = sess.run(a)\n",
    "    mult_output = sess.run(multiplication,feed_dict={x_data:x_val})\n",
    "    print(str(a_val) + \" * \"  + str(x_val) + \" = \" + str(mult_output))\n",
    "    "
   ]
  },
  {
   "cell_type": "code",
   "execution_count": 20,
   "metadata": {},
   "outputs": [
    {
     "name": "stdout",
     "output_type": "stream",
     "text": [
      "\n",
      "Optimizing Two Gate Output to 50.\n",
      "1.44 * 5.0 + 1.088 = 8.288\n",
      "1.85712 * 5.0 + 1.17142 = 10.457\n",
      "2.25255 * 5.0 + 1.25051 = 12.5133\n",
      "2.62742 * 5.0 + 1.32548 = 14.4626\n",
      "2.98279 * 5.0 + 1.39656 = 16.3105\n",
      "3.31969 * 5.0 + 1.46394 = 18.0624\n",
      "3.63906 * 5.0 + 1.52781 = 19.7231\n",
      "3.94183 * 5.0 + 1.58837 = 21.2975\n",
      "4.22886 * 5.0 + 1.64577 = 22.7901\n",
      "4.50096 * 5.0 + 1.70019 = 24.205\n",
      "4.75891 * 5.0 + 1.75178 = 25.5463\n",
      "5.00344 * 5.0 + 1.80069 = 26.8179\n",
      "5.23526 * 5.0 + 1.84705 = 28.0234\n",
      "5.45503 * 5.0 + 1.89101 = 29.1662\n",
      "5.66337 * 5.0 + 1.93267 = 30.2495\n",
      "5.86087 * 5.0 + 1.97217 = 31.2765\n",
      "6.04811 * 5.0 + 2.00962 = 32.2502\n",
      "6.22561 * 5.0 + 2.04512 = 33.1731\n",
      "6.39387 * 5.0 + 2.07878 = 34.0481\n",
      "6.55339 * 5.0 + 2.11068 = 34.8776\n"
     ]
    }
   ],
   "source": [
    "#----------------------------------\n",
    "# Create a nested gate:\n",
    "#   f(x) = a * x + b\n",
    "#\n",
    "#  a --\n",
    "#      |\n",
    "#      |-- (multiply)--\n",
    "#  x --|              |\n",
    "#                     |-- (add) --> output\n",
    "#                 b --|\n",
    "#\n",
    "#\n",
    "\n",
    "# Start a New Graph Session\n",
    "ops.reset_default_graph()\n",
    "sess = tf.Session()\n",
    "a = tf.Variable(tf.constant(1.))\n",
    "b = tf.Variable(tf.constant(1.))\n",
    "x_val = 5.\n",
    "x_data = tf.placeholder(dtype=tf.float32)\n",
    "two_gate = tf.add(tf.multiply(a,x_data),b)\n",
    "# Declare the loss function as the difference between\n",
    "# the output and a target value, 50.\n",
    "loss = tf.square(tf.subtract(two_gate,50.))\n",
    "# Initialize variables\n",
    "init = tf.global_variables_initializer()\n",
    "sess.run(init)\n",
    "train_step = tf.train.GradientDescentOptimizer(0.001).minimize(loss)\n",
    "# Run loop across gate\n",
    "print('\\nOptimizing Two Gate Output to 50.')\n",
    "for i in range(20):\n",
    "    sess.run(train_step, feed_dict={x_data: x_val})\n",
    "    a_val, b_val = (sess.run(a), sess.run(b))\n",
    "    two_gate_output = sess.run(two_gate, feed_dict={x_data: x_val})\n",
    "    print(str(a_val) + ' * ' + str(x_val) + ' + ' + str(b_val) + ' = ' + str(two_gate_output))"
   ]
  },
  {
   "cell_type": "code",
   "execution_count": null,
   "metadata": {},
   "outputs": [],
   "source": []
  }
 ],
 "metadata": {
  "kernelspec": {
   "display_name": "Python 3",
   "language": "python",
   "name": "python3"
  },
  "language_info": {
   "codemirror_mode": {
    "name": "ipython",
    "version": 3
   },
   "file_extension": ".py",
   "mimetype": "text/x-python",
   "name": "python",
   "nbconvert_exporter": "python",
   "pygments_lexer": "ipython3",
   "version": "3.5.3"
  }
 },
 "nbformat": 4,
 "nbformat_minor": 2
}
