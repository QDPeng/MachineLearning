{
 "cells": [
  {
   "cell_type": "code",
   "execution_count": 1,
   "metadata": {},
   "outputs": [],
   "source": [
    "import pandas as pd\n",
    "import numpy as np\n",
    "import cv2\n",
    "import glob\n",
    "import os\n",
    "from sklearn.ensemble import RandomForestClassifier\n",
    "from sklearn.metrics import accuracy_score\n",
    "import matplotlib.pyplot as plt"
   ]
  },
  {
   "cell_type": "code",
   "execution_count": 2,
   "metadata": {},
   "outputs": [
    {
     "name": "stdout",
     "output_type": "stream",
     "text": [
      "[[0.         0.29019608 0.69411765 ... 0.29019608 0.21960784 0.20784314]\n",
      " [0.         0.29019608 0.69411765 ... 0.29019608 0.39215686 0.27058824]\n",
      " [0.         0.61568627 0.60392157 ... 0.76470588 0.26666667 0.38431373]\n",
      " ...\n",
      " [7.         0.65098039 0.60784314 ... 0.51372549 0.46666667 0.39215686]\n",
      " [7.         0.2745098  0.21960784 ... 0.0627451  0.14509804 0.08235294]\n",
      " [7.         0.29019608 0.69411765 ... 0.19607843 0.23529412 0.2       ]] (3019, 1025)\n"
     ]
    }
   ],
   "source": [
    "#鱼的类别标签\n",
    "FishLabels = ['ALB', 'BET', 'DOL', 'LAG', 'NoF', 'OTHER', 'SHARK', 'YFT']\n",
    "\n",
    "def load_label_img(filelist,label):\n",
    "    list1 = []\n",
    "    for file in filelist:\n",
    "        img = cv2.imread(file, 0)\n",
    "        img = cv2.resize(img, (32,32)).flatten()\n",
    "        img = img/255\n",
    "        img = np.insert(img, 0, label)\n",
    "        list1.append(img)\n",
    "    return list1\n",
    "train_data_list = []\n",
    "for index in range(len(FishLabels)):\n",
    "    filelist = glob.glob(\"./train_split/%s/*.jpg\" % FishLabels[index])\n",
    "    lable_img = load_label_img(filelist,index)\n",
    "    train_data_list.append(lable_img)\n",
    "\n",
    "#joining real and animated data to prepare dataset\n",
    "def join(l1, l2):\n",
    "    l = np.concatenate((l1,l2))\n",
    "    return l\n",
    "\n",
    "train1 = join(train_data_list[0],train_data_list[1])\n",
    "train2 = join(train_data_list[2],train_data_list[3])\n",
    "train3 = join(train_data_list[4],train_data_list[5])\n",
    "train4 = join(train_data_list[6],train_data_list[7])\n",
    "train5 = join(train1,train2)\n",
    "train6 = join(train3,train4)\n",
    "train_data = join(train5,train6)\n",
    "print(train_data,train_data.shape)"
   ]
  },
  {
   "cell_type": "code",
   "execution_count": 3,
   "metadata": {},
   "outputs": [
    {
     "name": "stdout",
     "output_type": "stream",
     "text": [
      "[[0.         0.9372549  0.98431373 ... 0.01960784 0.02352941 0.03921569]\n",
      " [0.         0.49411765 0.49411765 ... 0.15686275 0.16470588 0.15686275]\n",
      " [0.         0.29019608 0.69411765 ... 0.29411765 0.3254902  0.30980392]\n",
      " ...\n",
      " [7.         0.29019608 0.69411765 ... 0.07058824 0.05490196 0.03921569]\n",
      " [7.         0.29019608 0.69411765 ... 0.08235294 0.06666667 0.05882353]\n",
      " [7.         0.29019608 0.69411765 ... 0.12941176 0.11372549 0.10980392]] (758, 1025)\n"
     ]
    }
   ],
   "source": [
    "test_data_list = []\n",
    "for index in range(len(FishLabels)):\n",
    "    filelist = glob.glob(\"./val_split/%s/*.jpg\" % FishLabels[index])\n",
    "    lable_img = load_label_img(filelist,index)\n",
    "    test_data_list.append(lable_img)\n",
    "\n",
    "test1 = join(test_data_list[0],test_data_list[1])\n",
    "test2 = join(test_data_list[2],test_data_list[3])\n",
    "test3 = join(test_data_list[4],test_data_list[5])\n",
    "test4 = join(test_data_list[6],test_data_list[7])\n",
    "test5 = join(test1,test2)\n",
    "test6 = join(test3,test4)\n",
    "test_data = join(test5,test6)\n",
    "print(test_data,test_data.shape)\n"
   ]
  },
  {
   "cell_type": "code",
   "execution_count": 4,
   "metadata": {},
   "outputs": [
    {
     "name": "stdout",
     "output_type": "stream",
     "text": [
      "[[0.29019608 0.69411765 0.23921569 ... 0.29019608 0.21960784 0.20784314]\n",
      " [0.29019608 0.69411765 0.23921569 ... 0.29019608 0.39215686 0.27058824]\n",
      " [0.61568627 0.60392157 0.23921569 ... 0.76470588 0.26666667 0.38431373]\n",
      " ...\n",
      " [0.65098039 0.60784314 0.64705882 ... 0.51372549 0.46666667 0.39215686]\n",
      " [0.2745098  0.21960784 0.32156863 ... 0.0627451  0.14509804 0.08235294]\n",
      " [0.29019608 0.69411765 0.23921569 ... 0.19607843 0.23529412 0.2       ]]\n",
      "[0. 0. 0. ... 7. 7. 7.]\n"
     ]
    }
   ],
   "source": [
    "#删除横轴上第一列，获取训练集\n",
    "X_train = np.delete(train_data, 0, axis=1)\n",
    "# 获取第一列得到标签集\n",
    "y_train = train_data[:,0]\n",
    "print(X_train)\n",
    "print(y_train)"
   ]
  },
  {
   "cell_type": "code",
   "execution_count": 5,
   "metadata": {},
   "outputs": [
    {
     "name": "stdout",
     "output_type": "stream",
     "text": [
      "[[0.9372549  0.98431373 1.         ... 0.01960784 0.02352941 0.03921569]\n",
      " [0.49411765 0.49411765 0.50588235 ... 0.15686275 0.16470588 0.15686275]\n",
      " [0.29019608 0.69411765 0.23921569 ... 0.29411765 0.3254902  0.30980392]\n",
      " ...\n",
      " [0.29019608 0.69411765 0.23921569 ... 0.07058824 0.05490196 0.03921569]\n",
      " [0.29019608 0.69411765 0.23921569 ... 0.08235294 0.06666667 0.05882353]\n",
      " [0.29019608 0.69411765 0.23921569 ... 0.12941176 0.11372549 0.10980392]]\n",
      "[0. 0. 0. 0. 0. 0. 0. 0. 0. 0. 0. 0. 0. 0. 0. 0. 0. 0. 0. 0. 0. 0. 0. 0.\n",
      " 0. 0. 0. 0. 0. 0. 0. 0. 0. 0. 0. 0. 0. 0. 0. 0. 0. 0. 0. 0. 0. 0. 0. 0.\n",
      " 0. 0. 0. 0. 0. 0. 0. 0. 0. 0. 0. 0. 0. 0. 0. 0. 0. 0. 0. 0. 0. 0. 0. 0.\n",
      " 0. 0. 0. 0. 0. 0. 0. 0. 0. 0. 0. 0. 0. 0. 0. 0. 0. 0. 0. 0. 0. 0. 0. 0.\n",
      " 0. 0. 0. 0. 0. 0. 0. 0. 0. 0. 0. 0. 0. 0. 0. 0. 0. 0. 0. 0. 0. 0. 0. 0.\n",
      " 0. 0. 0. 0. 0. 0. 0. 0. 0. 0. 0. 0. 0. 0. 0. 0. 0. 0. 0. 0. 0. 0. 0. 0.\n",
      " 0. 0. 0. 0. 0. 0. 0. 0. 0. 0. 0. 0. 0. 0. 0. 0. 0. 0. 0. 0. 0. 0. 0. 0.\n",
      " 0. 0. 0. 0. 0. 0. 0. 0. 0. 0. 0. 0. 0. 0. 0. 0. 0. 0. 0. 0. 0. 0. 0. 0.\n",
      " 0. 0. 0. 0. 0. 0. 0. 0. 0. 0. 0. 0. 0. 0. 0. 0. 0. 0. 0. 0. 0. 0. 0. 0.\n",
      " 0. 0. 0. 0. 0. 0. 0. 0. 0. 0. 0. 0. 0. 0. 0. 0. 0. 0. 0. 0. 0. 0. 0. 0.\n",
      " 0. 0. 0. 0. 0. 0. 0. 0. 0. 0. 0. 0. 0. 0. 0. 0. 0. 0. 0. 0. 0. 0. 0. 0.\n",
      " 0. 0. 0. 0. 0. 0. 0. 0. 0. 0. 0. 0. 0. 0. 0. 0. 0. 0. 0. 0. 0. 0. 0. 0.\n",
      " 0. 0. 0. 0. 0. 0. 0. 0. 0. 0. 0. 0. 0. 0. 0. 0. 0. 0. 0. 0. 0. 0. 0. 0.\n",
      " 0. 0. 0. 0. 0. 0. 0. 0. 0. 0. 0. 0. 0. 0. 0. 0. 0. 0. 0. 0. 0. 0. 0. 0.\n",
      " 0. 0. 0. 0. 0. 0. 0. 0. 1. 1. 1. 1. 1. 1. 1. 1. 1. 1. 1. 1. 1. 1. 1. 1.\n",
      " 1. 1. 1. 1. 1. 1. 1. 1. 1. 1. 1. 1. 1. 1. 1. 1. 1. 1. 1. 1. 1. 1. 1. 1.\n",
      " 2. 2. 2. 2. 2. 2. 2. 2. 2. 2. 2. 2. 2. 2. 2. 2. 2. 2. 2. 2. 2. 2. 2. 2.\n",
      " 3. 3. 3. 3. 3. 3. 3. 3. 3. 3. 3. 3. 3. 3. 4. 4. 4. 4. 4. 4. 4. 4. 4. 4.\n",
      " 4. 4. 4. 4. 4. 4. 4. 4. 4. 4. 4. 4. 4. 4. 4. 4. 4. 4. 4. 4. 4. 4. 4. 4.\n",
      " 4. 4. 4. 4. 4. 4. 4. 4. 4. 4. 4. 4. 4. 4. 4. 4. 4. 4. 4. 4. 4. 4. 4. 4.\n",
      " 4. 4. 4. 4. 4. 4. 4. 4. 4. 4. 4. 4. 4. 4. 4. 4. 4. 4. 4. 4. 4. 4. 4. 4.\n",
      " 4. 4. 4. 4. 4. 4. 4. 4. 4. 4. 4. 5. 5. 5. 5. 5. 5. 5. 5. 5. 5. 5. 5. 5.\n",
      " 5. 5. 5. 5. 5. 5. 5. 5. 5. 5. 5. 5. 5. 5. 5. 5. 5. 5. 5. 5. 5. 5. 5. 5.\n",
      " 5. 5. 5. 5. 5. 5. 5. 5. 5. 5. 5. 5. 5. 5. 5. 5. 5. 5. 5. 5. 5. 5. 5. 6.\n",
      " 6. 6. 6. 6. 6. 6. 6. 6. 6. 6. 6. 6. 6. 6. 6. 6. 6. 6. 6. 6. 6. 6. 6. 6.\n",
      " 6. 6. 6. 6. 6. 6. 6. 6. 6. 6. 6. 7. 7. 7. 7. 7. 7. 7. 7. 7. 7. 7. 7. 7.\n",
      " 7. 7. 7. 7. 7. 7. 7. 7. 7. 7. 7. 7. 7. 7. 7. 7. 7. 7. 7. 7. 7. 7. 7. 7.\n",
      " 7. 7. 7. 7. 7. 7. 7. 7. 7. 7. 7. 7. 7. 7. 7. 7. 7. 7. 7. 7. 7. 7. 7. 7.\n",
      " 7. 7. 7. 7. 7. 7. 7. 7. 7. 7. 7. 7. 7. 7. 7. 7. 7. 7. 7. 7. 7. 7. 7. 7.\n",
      " 7. 7. 7. 7. 7. 7. 7. 7. 7. 7. 7. 7. 7. 7. 7. 7. 7. 7. 7. 7. 7. 7. 7. 7.\n",
      " 7. 7. 7. 7. 7. 7. 7. 7. 7. 7. 7. 7. 7. 7. 7. 7. 7. 7. 7. 7. 7. 7. 7. 7.\n",
      " 7. 7. 7. 7. 7. 7. 7. 7. 7. 7. 7. 7. 7. 7.]\n"
     ]
    }
   ],
   "source": [
    "X_val = np.delete(test_data,0,axis=1)\n",
    "y_val = test_data[:,0]\n",
    "print(X_val)\n",
    "print(y_val)"
   ]
  },
  {
   "cell_type": "code",
   "execution_count": 6,
   "metadata": {},
   "outputs": [
    {
     "name": "stderr",
     "output_type": "stream",
     "text": [
      "d:\\program files\\python35\\lib\\site-packages\\sklearn\\cross_validation.py:44: DeprecationWarning: This module was deprecated in version 0.18 in favor of the model_selection module into which all the refactored classes and functions are moved. Also note that the interface of the new CV iterators are different from that of this module. This module will be removed in 0.20.\n",
      "  \"This module will be removed in 0.20.\", DeprecationWarning)\n",
      "d:\\program files\\python35\\lib\\site-packages\\sklearn\\grid_search.py:43: DeprecationWarning: This module was deprecated in version 0.18 in favor of the model_selection module into which all the refactored classes and functions are moved. This module will be removed in 0.20.\n",
      "  DeprecationWarning)\n"
     ]
    },
    {
     "name": "stdout",
     "output_type": "stream",
     "text": [
      "0.8433256045048029\n",
      "[0. 0. 0. ... 0. 0. 0.]\n"
     ]
    },
    {
     "name": "stderr",
     "output_type": "stream",
     "text": [
      "d:\\program files\\python35\\lib\\site-packages\\sklearn\\ensemble\\forest.py:439: UserWarning: Some inputs do not have OOB scores. This probably means too few trees were used to compute any reliable oob estimates.\n",
      "  warn(\"Some inputs do not have OOB scores. \"\n",
      "d:\\program files\\python35\\lib\\site-packages\\sklearn\\ensemble\\forest.py:444: RuntimeWarning: invalid value encountered in true_divide\n",
      "  predictions[k].sum(axis=1)[:, np.newaxis])\n"
     ]
    }
   ],
   "source": [
    "from sklearn.grid_search import GridSearchCV  \n",
    "from sklearn import cross_validation, metrics  \n",
    "#不管任何参数，都用默认的，拟合下数据看看  \n",
    "rf0 = RandomForestClassifier(oob_score=True, random_state=10)  \n",
    "rf0.fit(X_train,y_train)  \n",
    "print(rf0.oob_score_)  \n",
    "y_predprob = rf0.predict_proba(X_train)[:,1]  \n",
    "print(y_predprob)  "
   ]
  },
  {
   "cell_type": "markdown",
   "metadata": {},
   "source": [
    "#### 验证集预测"
   ]
  },
  {
   "cell_type": "code",
   "execution_count": 29,
   "metadata": {},
   "outputs": [
    {
     "name": "stdout",
     "output_type": "stream",
     "text": [
      "acc: 0.9195250659630607\n",
      "f1: 0.9181585848879672\n",
      "auc: 0.9421546032488282\n"
     ]
    },
    {
     "data": {
      "image/png": "[encoded data removed]",
      "text/plain": [
       "<matplotlib.figure.Figure at 0x1c86898dbe0>"
      ]
     },
     "metadata": {},
     "output_type": "display_data"
    }
   ],
   "source": [
    "pred  = rf0.predict(X_val)\n",
    "acc = accuracy_score(y_val,pred)\n",
    "from sklearn.metrics import f1_score\n",
    "f1 = f1_score(y_val,pred,average='weighted')\n",
    "fpr, tpr, thresholds = metrics.roc_curve(y_val, pred, pos_label=7)\n",
    "auc = metrics.auc(fpr, tpr)\n",
    "print(\"acc:\",acc)\n",
    "print('f1:',f1)\n",
    "print('auc:',auc)\n",
    "#画ROC曲线  \n",
    "plt.plot(fpr,tpr, 'k--')  \n",
    "plt.xlim([-0.05, 1.05])  \n",
    "plt.ylim([-0.05, 1.05])  \n",
    "plt.xlabel('False Positive Rate')  \n",
    "plt.ylabel('True Positive Rate')  \n",
    "plt.title('ROC')   \n",
    "plt.show()  "
   ]
  },
  {
   "cell_type": "code",
   "execution_count": 8,
   "metadata": {},
   "outputs": [
    {
     "name": "stdout",
     "output_type": "stream",
     "text": [
      "YFT\n"
     ]
    }
   ],
   "source": [
    "#预测图片\n",
    "img_path = \"./train/YFT/img_00004.jpg\"\n",
    "img = cv2.imread(img_path, 0)\n",
    "img = cv2.resize(img, (32,32)).flatten()\n",
    "img = img/255\n",
    "li = []\n",
    "li.append(img)\n",
    "pred2  = rf0.predict(li)\n",
    "print(FishLabels[int(pred2)])"
   ]
  },
  {
   "cell_type": "code",
   "execution_count": 9,
   "metadata": {},
   "outputs": [],
   "source": [
    "# # Plot the results\n",
    "# plt.figure()\n",
    "\n",
    "# plt.plot(X_val, pred, color=\"yellowgreen\", label=\"max_depth=5\", linewidth=2)\n",
    "# plt.xlabel(\"data\")\n",
    "# plt.ylabel(\"target\")"
   ]
  },
  {
   "cell_type": "code",
   "execution_count": null,
   "metadata": {},
   "outputs": [],
   "source": []
  }
 ],
 "metadata": {
  "kernelspec": {
   "display_name": "Python 3",
   "language": "python",
   "name": "python3"
  },
  "language_info": {
   "codemirror_mode": {
    "name": "ipython",
    "version": 3
   },
   "file_extension": ".py",
   "mimetype": "text/x-python",
   "name": "python",
   "nbconvert_exporter": "python",
   "pygments_lexer": "ipython3",
   "version": "3.5.3"
  }
 },
 "nbformat": 4,
 "nbformat_minor": 2
}
