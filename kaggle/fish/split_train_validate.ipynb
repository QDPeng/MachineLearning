{
 "cells": [
  {
   "cell_type": "code",
   "execution_count": 1,
   "metadata": {},
   "outputs": [
    {
     "name": "stdout",
     "output_type": "stream",
     "text": [
      "D:\\idea_project\\MachineLearning\\kaggle\n",
      "['.DS_Store', 'ALB', 'BET', 'DOL', 'LAG', 'NoF', 'OTHER', 'SHARK', 'YFT']\n"
     ]
    }
   ],
   "source": [
    "'''\n",
    "将样本分成训练集合验证集\n",
    "'''\n",
    "import os\n",
    "import numpy as np\n",
    "import shutil\n",
    "\n",
    "np.random.seed(2016)\n",
    "\n",
    "root_train = './train_split'\n",
    "root_val = './val_split'\n",
    "\n",
    "root_total = './train'\n",
    "\n",
    "FishNames = ['ALB', 'BET', 'DOL', 'LAG', 'NoF', 'OTHER', 'SHARK', 'YFT']\n",
    "current_dir = os.path.dirname(os.path.abspath(__name__))\n",
    "print(current_dir)\n",
    "nbr_train_samples = 0\n",
    "nbr_val_samples = 0\n",
    "if not os.path.isdir(root_train):\n",
    "    os.mkdir(os.path.join(current_dir,root_train))\n",
    "    \n",
    "if not os.path.isdir(root_val):\n",
    "    os.mkdir(os.path.join(current_dir,root_val))\n",
    "print(os.listdir(root_total))"
   ]
  },
  {
   "cell_type": "code",
   "execution_count": 2,
   "metadata": {},
   "outputs": [
    {
     "name": "stdout",
     "output_type": "stream",
     "text": [
      "Finish splitting train and val images!\n",
      "# training samples: 3019, # val samples: 758\n"
     ]
    }
   ],
   "source": [
    "# Training proportion将训练数据的80%作为训练集，20%作为验证集\n",
    "split_proportion = 0.8\n",
    "\n",
    "for fish in FishNames:\n",
    "    if fish not in os.listdir(root_train):\n",
    "        os.mkdir(os.path.join(root_train, fish))\n",
    "\n",
    "    total_images = os.listdir(os.path.join(root_total, fish))\n",
    "\n",
    "    nbr_train = int(len(total_images) * split_proportion)\n",
    "\n",
    "    np.random.shuffle(total_images)\n",
    "\n",
    "    train_images = total_images[:nbr_train]\n",
    "\n",
    "    val_images = total_images[nbr_train:]\n",
    "\n",
    "    for img in train_images:\n",
    "        source = os.path.join(root_total, fish, img)\n",
    "        target = os.path.join(root_train, fish, img)\n",
    "        shutil.copy(source, target)\n",
    "        nbr_train_samples += 1\n",
    "\n",
    "    if fish not in os.listdir(root_val):\n",
    "        os.mkdir(os.path.join(root_val, fish))\n",
    "\n",
    "    for img in val_images:\n",
    "        source = os.path.join(root_total, fish, img)\n",
    "        target = os.path.join(root_val, fish, img)\n",
    "        shutil.copy(source, target)\n",
    "        nbr_val_samples += 1\n",
    "\n",
    "print('Finish splitting train and val images!')\n",
    "print('# training samples: {}, # val samples: {}'.format(nbr_train_samples, nbr_val_samples))"
   ]
  },
  {
   "cell_type": "code",
   "execution_count": null,
   "metadata": {},
   "outputs": [],
   "source": []
  }
 ],
 "metadata": {
  "kernelspec": {
   "display_name": "Python 3",
   "language": "python",
   "name": "python3"
  },
  "language_info": {
   "codemirror_mode": {
    "name": "ipython",
    "version": 3
   },
   "file_extension": ".py",
   "mimetype": "text/x-python",
   "name": "python",
   "nbconvert_exporter": "python",
   "pygments_lexer": "ipython3",
   "version": "3.5.3"
  }
 },
 "nbformat": 4,
 "nbformat_minor": 2
}
