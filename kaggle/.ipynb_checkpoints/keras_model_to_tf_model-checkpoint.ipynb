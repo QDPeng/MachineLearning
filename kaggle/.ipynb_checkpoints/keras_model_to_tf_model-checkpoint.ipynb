{
 "cells": [
  {
   "cell_type": "code",
   "execution_count": null,
   "metadata": {},
   "outputs": [],
   "source": [
    "# 将keras生成的.h5格式的模型转成TensorFlow的.pb格式模型\n",
    "import os\n",
    "import sys\n",
    "import tensorflow as tf\n",
    "from keras.models import load_model\n",
    "from keras import backend as K\n",
    "\n",
    "def freeze_session(session, keep_var_names=None, output_names=None, clear_devices=True):\n",
    "    \"\"\"\n",
    "    Freezes the state of a session into a prunned computation graph.\n",
    "\n",
    "    Creates a new computation graph where variable nodes are replaced by\n",
    "    constants taking their current value in the session. The new graph will be\n",
    "    prunned so subgraphs that are not neccesary to compute the requested\n",
    "    outputs are removed.\n",
    "    @param session The TensorFlow session to be frozen.\n",
    "    @param keep_var_names A list of variable names that should not be frozen,\n",
    "                          or None to freeze all the variables in the graph.\n",
    "    @param output_names Names of the relevant graph outputs.\n",
    "    @param clear_devices Remove the device directives from the graph for better portability.\n",
    "    @return The frozen graph definition.\n",
    "    \"\"\"\n",
    "    from tensorflow.python.framework.graph_util import convert_variables_to_constants\n",
    "    graph = session.graph\n",
    "    with graph.as_default():\n",
    "        freeze_var_names = list(set(v.op.name for v in tf.global_variables()).difference(keep_var_names or []))\n",
    "        output_names = output_names or []\n",
    "        output_names += [v.op.name for v in tf.global_variables()]\n",
    "        input_graph_def = graph.as_graph_def()\n",
    "        if clear_devices:\n",
    "            for node in input_graph_def.node:\n",
    "                node.device = \"\"\n",
    "        frozen_graph = convert_variables_to_constants(session, input_graph_def,\n",
    "                                                      output_names, freeze_var_names)\n",
    "        return frozen_graph\n",
    "    \n",
    "weights_file_path = \"./weights.h5\"\n",
    "output_graph_name = 'tensor_model.pb'\n",
    "tf_model_path = \"./tensor_model.pb\"\n",
    "K.set_learning_phase(0)\n",
    "#加载h5模型\n",
    "net_model = load_model(weights_file_path)\n",
    "print('net_model input is :', net_model.input.name)\n",
    "print('net_model output is:', net_model.output.name)\n",
    "#生成TensorFlow graph\n",
    "frozen_graph = freeze_session(K.get_session(), output_names=[net_model.output.op.name])\n",
    "\n",
    "from tensorflow.python.framework import graph_io\n",
    "graph_io.write_graph(frozen_graph, output_fld, output_graph_name, as_text=False)\n",
    "\n",
    "print('saved the constant graph (ready for inference) at: ', output_graph_name)\n"
   ]
  }
 ],
 "metadata": {
  "kernelspec": {
   "display_name": "Python 3",
   "language": "python",
   "name": "python3"
  },
  "language_info": {
   "codemirror_mode": {
    "name": "ipython",
    "version": 3
   },
   "file_extension": ".py",
   "mimetype": "text/x-python",
   "name": "python",
   "nbconvert_exporter": "python",
   "pygments_lexer": "ipython3",
   "version": "3.5.3"
  }
 },
 "nbformat": 4,
 "nbformat_minor": 2
}
