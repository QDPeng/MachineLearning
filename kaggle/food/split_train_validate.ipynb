{
 "cells": [
  {
   "cell_type": "code",
   "execution_count": 20,
   "metadata": {},
   "outputs": [
    {
     "name": "stdout",
     "output_type": "stream",
     "text": [
      "['apple_pie', 'baby_back_ribs', 'baklava', 'beef_carpaccio', 'beef_tartare', 'beet_salad', 'beignets', 'bibimbap', 'bread_pudding', 'breakfast_burrito', 'bruschetta', 'caesar_salad', 'cannoli', 'caprese_salad', 'carrot_cake', 'ceviche', 'cheesecake', 'cheese_plate', 'chicken_curry', 'chicken_quesadilla', 'chicken_wings', 'chocolate_cake', 'chocolate_mousse', 'churros', 'clam_chowder', 'club_sandwich', 'crab_cakes', 'creme_brulee', 'croque_madame', 'cup_cakes', 'deviled_eggs', 'donuts', 'dumplings', 'edamame', 'eggs_benedict', 'escargots', 'falafel', 'filet_mignon', 'fish_and_chips', 'foie_gras', 'french_fries', 'french_onion_soup', 'french_toast', 'fried_calamari', 'fried_rice', 'frozen_yogurt', 'garlic_bread', 'gnocchi', 'greek_salad', 'grilled_cheese_sandwich', 'grilled_salmon', 'guacamole', 'gyoza', 'hamburger', 'hot_and_sour_soup', 'hot_dog', 'huevos_rancheros', 'hummus', 'ice_cream', 'lasagna', 'lobster_bisque', 'lobster_roll_sandwich', 'macaroni_and_cheese', 'macarons', 'miso_soup', 'mussels', 'nachos', 'omelette', 'onion_rings', 'oysters', 'pad_thai', 'paella', 'pancakes', 'panna_cotta', 'peking_duck', 'pho', 'pizza', 'pork_chop', 'poutine', 'prime_rib', 'pulled_pork_sandwich', 'ramen', 'ravioli', 'red_velvet_cake', 'risotto', 'samosa', 'sashimi', 'scallops', 'seaweed_salad', 'shrimp_and_grits', 'spaghetti_bolognese', 'spaghetti_carbonara', 'spring_rolls', 'steak', 'strawberry_shortcake', 'sushi', 'tacos', 'takoyaki', 'tiramisu', 'tuna_tartare', 'waffles']\n"
     ]
    }
   ],
   "source": [
    "'''\n",
    "将样本分成训练集合验证集\n",
    "'''\n",
    "import os\n",
    "import numpy as np\n",
    "import shutil\n",
    "import csv\n",
    "import pandas as pd\n",
    "labels = []\n",
    "with open('./labels.csv') as f:\n",
    "    header = csv.reader(f)\n",
    "    for row in header:\n",
    "        labels.append(row[0])\n",
    "        \n",
    "print(labels)"
   ]
  },
  {
   "cell_type": "code",
   "execution_count": 21,
   "metadata": {},
   "outputs": [
    {
     "name": "stdout",
     "output_type": "stream",
     "text": [
      "D:\\penck\\MachineLearning\\kaggle\\food\n",
      "['apple_pie', 'baby_back_ribs', 'baklava', 'beef_carpaccio', 'beef_tartare', 'beet_salad', 'beignets', 'bibimbap', 'bread_pudding', 'breakfast_burrito', 'bruschetta', 'caesar_salad', 'cannoli', 'caprese_salad', 'carrot_cake', 'ceviche', 'cheesecake', 'cheese_plate', 'chicken_curry', 'chicken_quesadilla', 'chicken_wings', 'chocolate_cake', 'chocolate_mousse', 'churros', 'clam_chowder', 'club_sandwich', 'crab_cakes', 'creme_brulee', 'croque_madame', 'cup_cakes', 'deviled_eggs', 'donuts', 'dumplings', 'edamame', 'eggs_benedict', 'escargots', 'falafel', 'filet_mignon', 'fish_and_chips', 'foie_gras', 'french_fries', 'french_onion_soup', 'french_toast', 'fried_calamari', 'fried_rice', 'frozen_yogurt', 'garlic_bread', 'gnocchi', 'greek_salad', 'grilled_cheese_sandwich', 'grilled_salmon', 'guacamole', 'gyoza', 'hamburger', 'hot_and_sour_soup', 'hot_dog', 'huevos_rancheros', 'hummus', 'ice_cream', 'lasagna', 'lobster_bisque', 'lobster_roll_sandwich', 'macaroni_and_cheese', 'macarons', 'miso_soup', 'mussels', 'nachos', 'omelette', 'onion_rings', 'oysters', 'pad_thai', 'paella', 'pancakes', 'panna_cotta', 'peking_duck', 'pho', 'pizza', 'pork_chop', 'poutine', 'prime_rib', 'pulled_pork_sandwich', 'ramen', 'ravioli', 'red_velvet_cake', 'risotto', 'samosa', 'sashimi', 'scallops', 'seaweed_salad', 'shrimp_and_grits', 'spaghetti_bolognese', 'spaghetti_carbonara', 'spring_rolls', 'steak', 'strawberry_shortcake', 'sushi', 'tacos', 'takoyaki', 'tiramisu', 'tuna_tartare', 'waffles']\n"
     ]
    }
   ],
   "source": [
    "np.random.seed(2016)\n",
    "\n",
    "root_train = './food-101/train_split'\n",
    "root_val = './food-101/val_split'\n",
    "\n",
    "root_total = './food-101/images'\n",
    "\n",
    "current_dir = os.path.dirname(os.path.abspath(__name__))\n",
    "print(current_dir)\n",
    "nbr_train_samples = 0\n",
    "nbr_val_samples = 0\n",
    "if not os.path.isdir(root_train):\n",
    "    os.mkdir(os.path.join(current_dir,root_train))\n",
    "    \n",
    "if not os.path.isdir(root_val):\n",
    "    os.mkdir(os.path.join(current_dir,root_val))\n",
    "print(os.listdir(root_total))"
   ]
  },
  {
   "cell_type": "code",
   "execution_count": 22,
   "metadata": {},
   "outputs": [
    {
     "name": "stdout",
     "output_type": "stream",
     "text": [
      "splitting train and val images!\n",
      "# training samples: 80800, # val samples: 20200\n"
     ]
    }
   ],
   "source": [
    "# Training proportion将训练数据的80%作为训练集，20%作为验证集\n",
    "split_proportion = 0.8\n",
    "\n",
    "for fish in labels:\n",
    "    if fish not in os.listdir(root_train):\n",
    "        os.mkdir(os.path.join(root_train, fish))\n",
    "\n",
    "    total_images = os.listdir(os.path.join(root_total, fish))\n",
    "\n",
    "    nbr_train = int(len(total_images) * split_proportion)\n",
    "\n",
    "    np.random.shuffle(total_images)\n",
    "\n",
    "    train_images = total_images[:nbr_train]\n",
    "\n",
    "    val_images = total_images[nbr_train:]\n",
    "\n",
    "    for img in train_images:\n",
    "        source = os.path.join(root_total, fish, img)\n",
    "        target = os.path.join(root_train, fish, img)\n",
    "        shutil.copy(source, target)\n",
    "        nbr_train_samples += 1\n",
    "\n",
    "    if fish not in os.listdir(root_val):\n",
    "        os.mkdir(os.path.join(root_val, fish))\n",
    "\n",
    "    for img in val_images:\n",
    "        source = os.path.join(root_total, fish, img)\n",
    "        target = os.path.join(root_val, fish, img)\n",
    "        shutil.copy(source, target)\n",
    "        nbr_val_samples += 1\n",
    "\n",
    "print('splitting train and val images!')\n",
    "print('# training samples: {}, # val samples: {}'.format(nbr_train_samples, nbr_val_samples))"
   ]
  },
  {
   "cell_type": "code",
   "execution_count": null,
   "metadata": {},
   "outputs": [],
   "source": []
  }
 ],
 "metadata": {
  "kernelspec": {
   "display_name": "Python 3",
   "language": "python",
   "name": "python3"
  },
  "language_info": {
   "codemirror_mode": {
    "name": "ipython",
    "version": 3
   },
   "file_extension": ".py",
   "mimetype": "text/x-python",
   "name": "python",
   "nbconvert_exporter": "python",
   "pygments_lexer": "ipython3",
   "version": "3.6.4"
  }
 },
 "nbformat": 4,
 "nbformat_minor": 2
}
