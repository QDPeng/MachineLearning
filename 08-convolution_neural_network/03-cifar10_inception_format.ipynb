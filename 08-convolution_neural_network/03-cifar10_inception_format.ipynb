{
 "cells": [
  {
   "cell_type": "markdown",
   "metadata": {},
   "source": [
    "Retraining (fine-tuning) Current CNN Architectures\n",
    "==================================================\n",
    "\n",
    "The purpose of the script provided in this section is to download the CIFAR-10 data, and sort it out in the proper folder structure for running it through the Tensorflow fine-tuning tutorial.  The script should create the following folder structure.\n",
    "\n",
    "```\n",
    "-train_dir\n",
    "  |--airplane\n",
    "  |--automobile\n",
    "  |--bird\n",
    "  |--cat\n",
    "  |--deer\n",
    "  |--dog\n",
    "  |--frog\n",
    "  |--horse\n",
    "  |--ship\n",
    "  |--truck\n",
    "-validation_dir\n",
    "  |--airplane\n",
    "  |--automobile\n",
    "  |--bird\n",
    "  |--cat\n",
    "  |--deer\n",
    "  |--dog\n",
    "  |--frog\n",
    "  |--horse\n",
    "  |--ship\n",
    "  |--truck\n",
    "```\n",
    "\n",
    "After this is done, we proceed with the [Tensorflow fine-tuning tutorial](https://github.com/tensorflow/models/tree/master/inception)."
   ]
  },
  {
   "cell_type": "code",
   "execution_count": 2,
   "metadata": {},
   "outputs": [
    {
     "name": "stdout",
     "output_type": "stream",
     "text": [
      "CIFAR-10 file not found. Downloading CIFAR data (Size = 163MB)\n",
      "This may take a few minutes, please wait.\n",
      "['data_batch_1', 'data_batch_2', 'data_batch_3', 'data_batch_4', 'data_batch_5'] ['test_batch']\n"
     ]
    }
   ],
   "source": [
    "# Download/Saving CIFAR-10 images in Inception format\n",
    "# ---------------------------------------\n",
    "#\n",
    "# In this script, we download the CIFAR-10 images and\n",
    "# transform/save them in the Inception Retrianing Format\n",
    "#\n",
    "# The end purpose of the files is for retrianing the\n",
    "import os\n",
    "import tarfile\n",
    "import _pickle as cPickle\n",
    "import numpy as np\n",
    "import urllib.request\n",
    "import scipy.misc\n",
    "cifar_link = 'https://www.cs.toronto.edu/~kriz/cifar-10-python.tar.gz'\n",
    "data_dir = 'temp'\n",
    "if not os.path.isdir(data_dir):\n",
    "    os.makedirs(data_dir)\n",
    "    \n",
    "# Download tar file\n",
    "target_file = os.path.join(data_dir,\"cifar-10-python.tar.gz\")\n",
    "if not os.path.isfile(target_file):\n",
    "    print('CIFAR-10 file not found. Downloading CIFAR data (Size = 163MB)')\n",
    "    print('This may take a few minutes, please wait.')\n",
    "    fileanme,headers = urllib.request.urlretrieve(cifar_link,target_file)\n",
    "    \n",
    "# Extract into memory\n",
    "tar = tarfile.open(target_file)\n",
    "tar.extractall(path=data_dir)\n",
    "tar.close()\n",
    "objects = ['airplane', 'automobile', 'bird', 'cat', 'deer', 'dog', 'frog', 'horse', 'ship', 'truck']\n",
    "# Create train image folders\n",
    "train_folder = 'train_dir'\n",
    "if not os.path.isdir(os.path.join(data_dir,train_folder)):\n",
    "    for i in range(len(objects)):\n",
    "        folder = os.path.join(data_dir,train_folder,objects[i])\n",
    "        os.makedirs(folder)\n",
    "# Create test image folders\n",
    "test_folder = 'validation_dir'\n",
    "if not os.path.isdir(os.path.join(data_dir,test_folder)):\n",
    "    for i in range(len(objects)):\n",
    "        folder = os.path.join(data_dir,test_folder,objects[i])\n",
    "        os.makedirs(folder)\n",
    "        \n",
    "# Extract images accordingly\n",
    "data_location = os.path.join(data_dir,'cifar-10-batches-py')\n",
    "train_names = ['data_batch_' + str(x) for x in range(1,6)]\n",
    "test_names = ['test_batch']\n",
    "print(train_names,test_names)"
   ]
  },
  {
   "cell_type": "code",
   "execution_count": 4,
   "metadata": {},
   "outputs": [
    {
     "name": "stdout",
     "output_type": "stream",
     "text": [
      "Saving images from file: data_batch_1\n",
      "Saving images from file: data_batch_2\n",
      "Saving images from file: data_batch_3\n",
      "Saving images from file: data_batch_4\n",
      "Saving images from file: data_batch_5\n"
     ]
    }
   ],
   "source": [
    "def load_batch_from_file(file):\n",
    "    file_conn = open(file,\"rb\")\n",
    "    image_dictionary = cPickle.load(file_conn,encoding='latin1') #反序列化对象。将文件中的数据解析为一个Python对象\n",
    "    file_conn.close()\n",
    "    return (image_dictionary)\n",
    "\n",
    "def save_image_from_dict(image_dict,folder='data_dir'):\n",
    "    # image_dict.keys() = 'labels', 'filenames', 'data', 'batch_label'\n",
    "    for ix,label in enumerate(image_dict['labels']):\n",
    "#         print(ix,label)\n",
    "        folder_path = os.path.join(data_dir,folder,objects[label])\n",
    "        filename = image_dict['filenames'][ix]\n",
    "        # Transform image data\n",
    "        image_array= image_dict['data'][ix]\n",
    "        image_array.resize([3,32,32])\n",
    "        # Save image\n",
    "        output_location = os.path.join(folder_path,filename)\n",
    "        scipy.misc.imsave(output_location,image_array.transpose())\n",
    "\n",
    "# Sort train images\n",
    "for file in train_names:\n",
    "    print('Saving images from file: {}'.format(file))\n",
    "    file_location = os.path.join(data_dir, 'cifar-10-batches-py', file)\n",
    "    image_dict = load_batch_from_file(file_location)\n",
    "    save_image_from_dict(image_dict,folder=train_folder)\n",
    "\n"
   ]
  },
  {
   "cell_type": "code",
   "execution_count": 5,
   "metadata": {},
   "outputs": [
    {
     "name": "stdout",
     "output_type": "stream",
     "text": [
      "saving images from file:test_batch\n"
     ]
    }
   ],
   "source": [
    "# Sort test images\n",
    "for file in test_names:\n",
    "    print(\"saving images from file:{}\".format(file))\n",
    "    file_location = os.path.join(data_dir,'cifar-10-batches-py',file)\n",
    "    image_dict = load_batch_from_file(file_location)\n",
    "    save_image_from_dict(image_dict,folder=test_folder)"
   ]
  },
  {
   "cell_type": "code",
   "execution_count": 7,
   "metadata": {},
   "outputs": [
    {
     "name": "stdout",
     "output_type": "stream",
     "text": [
      "Writing labels file, temp\\cifar10_labels.txt\n"
     ]
    }
   ],
   "source": [
    "# Create labels file\n",
    "cifar_labels_file = os.path.join(data_dir, 'cifar10_labels.txt')\n",
    "print('Writing labels file, {}'.format(cifar_labels_file))\n",
    "with open(cifar_labels_file,'w') as label_file:\n",
    "    for item in objects:\n",
    "        label_file.write(\"{}\\n\".format(item))"
   ]
  },
  {
   "cell_type": "code",
   "execution_count": null,
   "metadata": {},
   "outputs": [],
   "source": []
  }
 ],
 "metadata": {
  "kernelspec": {
   "display_name": "Python 3",
   "language": "python",
   "name": "python3"
  },
  "language_info": {
   "codemirror_mode": {
    "name": "ipython",
    "version": 3
   },
   "file_extension": ".py",
   "mimetype": "text/x-python",
   "name": "python",
   "nbconvert_exporter": "python",
   "pygments_lexer": "ipython3",
   "version": "3.5.3"
  }
 },
 "nbformat": 4,
 "nbformat_minor": 2
}
