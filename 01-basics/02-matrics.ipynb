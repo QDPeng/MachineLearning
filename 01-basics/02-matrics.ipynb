{
 "cells": [
  {
   "cell_type": "code",
   "execution_count": 1,
   "metadata": {},
   "outputs": [],
   "source": [
    "import numpy as np\n",
    "import tensorflow as tf\n",
    "from tensorflow.python.framework import ops"
   ]
  },
  {
   "cell_type": "code",
   "execution_count": 19,
   "metadata": {},
   "outputs": [
    {
     "name": "stdout",
     "output_type": "stream",
     "text": [
      "[[ 1.  0.  0.]\n",
      " [ 0.  1.  0.]\n",
      " [ 0.  0.  1.]]\n",
      "Tensor(\"Diag:0\", shape=(3, 3), dtype=float32)\n"
     ]
    }
   ],
   "source": [
    "ops.reset_default_graph()\n",
    "sess = tf.Session()\n",
    "# declar matric\n",
    "# Identity matrix\n",
    "diag_matric = tf.diag([1.0,1.0,1.0])\n",
    "print(sess.run(diag_matric))\n",
    "print(diag_matric)"
   ]
  },
  {
   "cell_type": "code",
   "execution_count": 20,
   "metadata": {},
   "outputs": [
    {
     "name": "stdout",
     "output_type": "stream",
     "text": [
      "[[-0.06304682 -1.71348524 -0.94842297]\n",
      " [ 0.59229612  0.70525706 -0.15591498]]\n",
      "Tensor(\"truncated_normal:0\", shape=(2, 3), dtype=float32)\n"
     ]
    }
   ],
   "source": [
    "# 2x3 random norm matrix\n",
    "A = tf.truncated_normal([2,3])\n",
    "print(sess.run(A))\n",
    "print(A)"
   ]
  },
  {
   "cell_type": "code",
   "execution_count": 4,
   "metadata": {},
   "outputs": [
    {
     "name": "stdout",
     "output_type": "stream",
     "text": [
      "[[ 5.  5.  5.]\n",
      " [ 5.  5.  5.]]\n"
     ]
    }
   ],
   "source": [
    "# 2x3 constant matrix\n",
    "B = tf.fill([2,3],5.0)\n",
    "print(sess.run(B))"
   ]
  },
  {
   "cell_type": "code",
   "execution_count": 24,
   "metadata": {},
   "outputs": [
    {
     "name": "stdout",
     "output_type": "stream",
     "text": [
      "[[ 0.27585018  0.3143152   0.60240805]\n",
      " [ 0.86997807  0.87589324  0.03087676]]\n",
      "different matric:\n",
      "[[ 0.86396742  0.6052146   0.06493902]\n",
      " [ 0.08311319  0.62800026  0.31784022]]\n",
      "Tensor(\"random_uniform:0\", shape=(2, 3), dtype=float32)\n"
     ]
    }
   ],
   "source": [
    "# 3x2 random uniform matrix\n",
    "C = tf.random_uniform([2,3])\n",
    "print(sess.run(C))\n",
    "print(\"different matric:\")\n",
    "print(sess.run(C))\n",
    "print(C)"
   ]
  },
  {
   "cell_type": "code",
   "execution_count": 25,
   "metadata": {},
   "outputs": [
    {
     "name": "stdout",
     "output_type": "stream",
     "text": [
      "[[ 1.  2.  3.]\n",
      " [ 4.  5.  6.]\n",
      " [-4. -3. -4.]]\n",
      "[[ 0.7611366   0.84503726  0.39926276  0.11731382]\n",
      " [ 0.64482661  0.66011195  0.97323603  0.56121759]\n",
      " [ 0.54152724  0.41102893  0.34500535  0.02907484]\n",
      " [ 0.6555299   0.57453317  0.92093235  0.3535125 ]]\n",
      "Tensor(\"Const_3:0\", shape=(4, 4), dtype=float64)\n"
     ]
    }
   ],
   "source": [
    "# Create matrix from np array\n",
    "D = tf.convert_to_tensor(np.array([[1.0,2.0,3.0],[4.0,5.0,6.0],[-4.0,-3.0,-4.0]]))\n",
    "E = tf.convert_to_tensor(np.random.rand(4,4))\n",
    "print(sess.run(D))\n",
    "print(sess.run(E))\n",
    "print(E)"
   ]
  },
  {
   "cell_type": "code",
   "execution_count": 10,
   "metadata": {},
   "outputs": [
    {
     "name": "stdout",
     "output_type": "stream",
     "text": [
      "[[ 5.4021163   6.1506381   4.58586788]\n",
      " [ 5.17422962  4.26944447  4.72785091]]\n",
      "[[-5.1673336  -6.52105141 -5.13930273]\n",
      " [-5.80337095 -4.42917347 -4.25841999]]\n"
     ]
    }
   ],
   "source": [
    "# Matrix addition/subtraction\n",
    "print(sess.run(A + B))\n",
    "print(sess.run(A - B))\n"
   ]
  },
  {
   "cell_type": "code",
   "execution_count": 29,
   "metadata": {},
   "outputs": [
    {
     "name": "stdout",
     "output_type": "stream",
     "text": [
      "[[ 0.11830235  0.00547576  0.3335979 ]\n",
      " [ 0.78032529  0.84384966  0.90598917]]\n",
      "[[ 1.  4. -4.]\n",
      " [ 2.  5. -3.]\n",
      " [ 3.  6. -4.]]\n",
      "6.0\n"
     ]
    }
   ],
   "source": [
    "# Matrix Multiplication\n",
    "print(sess.run(tf.matmul(C,diag_matric)))\n",
    "# Matrix Transpose\n",
    "print(sess.run(tf.transpose(D)))\n",
    "# Matrix Determinant\n",
    "print(sess.run(tf.matrix_determinant(D)))\n"
   ]
  },
  {
   "cell_type": "code",
   "execution_count": 40,
   "metadata": {},
   "outputs": [
    {
     "name": "stdout",
     "output_type": "stream",
     "text": [
      "[[ 1.  0.  0.]\n",
      " [ 0.  1.  0.]\n",
      " [ 0.  0.  1.]]\n"
     ]
    }
   ],
   "source": [
    "# Matrix Inverse\n",
    "D_inverse = sess.run(tf.matrix_inverse(diag_matric))\n",
    "print(D_inverse)\n",
    "# print(sess.run(tf.matrix_determinant(D_inverse))"
   ]
  },
  {
   "cell_type": "code",
   "execution_count": 44,
   "metadata": {},
   "outputs": [
    {
     "name": "stdout",
     "output_type": "stream",
     "text": [
      "[[ 1.  0.  0.]\n",
      " [ 0.  1.  0.]\n",
      " [ 0.  0.  1.]]\n"
     ]
    }
   ],
   "source": [
    "# Cholesky Decomposition\n",
    "print(sess.run(tf.cholesky(diag_matric)))"
   ]
  },
  {
   "cell_type": "code",
   "execution_count": 46,
   "metadata": {},
   "outputs": [
    {
     "name": "stdout",
     "output_type": "stream",
     "text": [
      "[ 1.  1.  1.]\n"
     ]
    }
   ],
   "source": [
    "# Eigenvalues and Eigenvectors\n",
    "print(sess.run(tf.self_adjoint_eigvals(diag_matric)))"
   ]
  }
 ],
 "metadata": {
  "kernelspec": {
   "display_name": "Python 3",
   "language": "python",
   "name": "python3"
  },
  "language_info": {
   "codemirror_mode": {
    "name": "ipython",
    "version": 3
   },
   "file_extension": ".py",
   "mimetype": "text/x-python",
   "name": "python",
   "nbconvert_exporter": "python",
   "pygments_lexer": "ipython3",
   "version": "3.5.3"
  }
 },
 "nbformat": 4,
 "nbformat_minor": 2
}
