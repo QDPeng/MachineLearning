{
 "cells": [
  {
   "cell_type": "markdown",
   "metadata": {},
   "source": [
    "#### 创建数组\n",
    "\n",
    "有好几种创建数组的方法。\n",
    "例如，你可以使用array函数从常规的Python列表和元组创造数组。所创建的数组类型由原序列中的元素类型推导而来。"
   ]
  },
  {
   "cell_type": "code",
   "execution_count": 12,
   "metadata": {},
   "outputs": [
    {
     "name": "stdout",
     "output_type": "stream",
     "text": [
      "[2 3 4]\n",
      "int32\n",
      "[[ 1.5  2.   3. ]\n",
      " [ 4.   5.   6. ]]\n",
      "[[ 1.  1.  1.]\n",
      " [ 1.  1.  1.]] [[ 0.  0.  0.]\n",
      " [ 0.  0.  0.]] [[ 1.5  2.   3. ]\n",
      " [ 4.   5.   6. ]]\n",
      "=========\n",
      "[ 2  4  6  8 10 12 14 16 18]\n",
      "[[ 2  4  6]\n",
      " [ 8 10 12]\n",
      " [14 16 18]]\n",
      "None\n",
      "[[ 2  4  6]\n",
      " [ 8 10 12]\n",
      " [14 16 18]]\n"
     ]
    }
   ],
   "source": [
    "import numpy as np\n",
    "\n",
    "a = np.array([2,3,4])\n",
    "print(a)\n",
    "print(a.dtype)\n",
    "# 数组将序列包含序列转化成二维的数组，序列包含序列包含序列转化成三维数组等等。\n",
    "b = np.array([(1.5,2,3),(4,5,6)])\n",
    "print(b)\n",
    "# 函数function创建一个全是0的数组，函数ones创建一个全1的数组，函数empty创建一个内容随机并且依赖与内存状态的数组。默认创建的数组类型(dtype)都是float64。\n",
    "one = np.ones([2,3])\n",
    "zero = np.zeros([2,3])\n",
    "empty = np.empty([2,3])\n",
    "print(one,zero,empty)\n",
    "print(\"=========\")\n",
    "#为了创建一个数列，NumPy提供一个类似arange的函数返回数组而不是列表:\n",
    "arange = np.arange(2,20,2)\n",
    "print(arange)\n",
    "a_reshape = arange.reshape(3,3) #不改变原始数组的shape\n",
    "arange.resize(3,3)# 改变原始数组的shape\n",
    "print(a_reshape)\n",
    "print(arange)\n",
    "print(a)"
   ]
  },
  {
   "cell_type": "code",
   "execution_count": null,
   "metadata": {},
   "outputs": [],
   "source": []
  }
 ],
 "metadata": {
  "kernelspec": {
   "display_name": "Python 3",
   "language": "python",
   "name": "python3"
  },
  "language_info": {
   "codemirror_mode": {
    "name": "ipython",
    "version": 3
   },
   "file_extension": ".py",
   "mimetype": "text/x-python",
   "name": "python",
   "nbconvert_exporter": "python",
   "pygments_lexer": "ipython3",
   "version": "3.5.3"
  }
 },
 "nbformat": 4,
 "nbformat_minor": 2
}
