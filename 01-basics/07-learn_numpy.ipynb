{
 "cells": [
  {
   "cell_type": "markdown",
   "metadata": {},
   "source": [
    "#### 创建数组\n",
    "\n",
    "有好几种创建数组的方法。\n",
    "例如，你可以使用array函数从常规的Python列表和元组创造数组。所创建的数组类型由原序列中的元素类型推导而来。"
   ]
  },
  {
   "cell_type": "code",
   "execution_count": 1,
   "metadata": {},
   "outputs": [
    {
     "name": "stdout",
     "output_type": "stream",
     "text": [
      "[2 3 4]\n",
      "int32\n",
      "[[ 1.5  2.   3. ]\n",
      " [ 4.   5.   6. ]]\n",
      "[[ 1.  1.  1.]\n",
      " [ 1.  1.  1.]] [[ 0.  0.  0.]\n",
      " [ 0.  0.  0.]] [[  1.13684362e-311   1.13682325e-311   1.13684367e-311]\n",
      " [  1.13684388e-311   1.13684294e-311   1.13682384e-311]]\n",
      "=========\n",
      "[ 2  4  6  8 10 12 14 16 18]\n",
      "[[ 2  4  6]\n",
      " [ 8 10 12]\n",
      " [14 16 18]]\n",
      "[[ 2  4  6]\n",
      " [ 8 10 12]\n",
      " [14 16 18]]\n",
      "[ 2  4  6  8 10 12 14 16 18]\n",
      "[ 0.          1.57079633  3.14159265]\n"
     ]
    }
   ],
   "source": [
    "import numpy as np\n",
    "\n",
    "a = np.array([2,3,4])\n",
    "print(a)\n",
    "print(a.dtype)\n",
    "# 数组将序列包含序列转化成二维的数组，序列包含序列包含序列转化成三维数组等等。\n",
    "b = np.array([(1.5,2,3),(4,5,6)])\n",
    "print(b)\n",
    "# 函数function创建一个全是0的数组，函数ones创建一个全1的数组，函数empty创建一个内容随机并且依赖与内存状态的数组。默认创建的数组类型(dtype)都是float64。\n",
    "one = np.ones([2,3])\n",
    "zero = np.zeros([2,3])\n",
    "empty = np.empty([2,3])\n",
    "print(one,zero,empty)\n",
    "print(\"=========\")\n",
    "#为了创建一个数列，NumPy提供一个类似arange的函数返回数组而不是列表:\n",
    "arange = np.arange(2,20,2)\n",
    "print(arange)\n",
    "a_reshape = arange.reshape(3,3) #不改变原始数组的shape\n",
    "arange.resize(3,3)# 改变原始数组的shape\n",
    "print(a_reshape)\n",
    "print(arange)\n",
    "print(arange.reshape([-1]))\n",
    "# 当arange使用浮点数参数时，由于有限的浮点数精度，通常无法预测获得的元素个数 使用函数linspace去接收我们想要的元素个数来代替用range来指定步长。\n",
    "a_lin = np.linspace(0,np.pi,3)\n",
    "print(a_lin)"
   ]
  },
  {
   "cell_type": "markdown",
   "metadata": {},
   "source": [
    "#### 索引，切片和迭代\n",
    "一维数组可以被索引、切片和迭代，就像列表和其它Python序列。"
   ]
  },
  {
   "cell_type": "code",
   "execution_count": 10,
   "metadata": {},
   "outputs": [
    {
     "name": "stdout",
     "output_type": "stream",
     "text": [
      "[ 0  1  4  9 16 25 36 49 64 81]\n",
      "[ 4  9 16]\n",
      "[ 0  1  4  9 16 25 36 49 64]\n",
      "[ 0  1  4  9 16 25 36 49 64 81]\n",
      "[ 0  4 16 36 64]\n",
      "[81 64 49 36 25 16  9  4  1  0]\n"
     ]
    }
   ],
   "source": [
    "a_slice = np.arange(10)**2\n",
    "print(a_slice)\n",
    "print(a_slice[2:5])# 不包括最后一个\n",
    "print(a_slice[:-1])# -1代表最后一个索引\n",
    "print(a_slice[:])\n",
    "print(a_slice[:10:2]) #从0开始到10 步长为2\n",
    "print(a_slice[::-1]) # 倒序"
   ]
  },
  {
   "cell_type": "markdown",
   "metadata": {},
   "source": [
    "#### 多维数组可以每个轴有一个索引。这些索引由一个逗号分割的元组给出。"
   ]
  },
  {
   "cell_type": "code",
   "execution_count": 19,
   "metadata": {},
   "outputs": [
    {
     "name": "stdout",
     "output_type": "stream",
     "text": [
      "[[ 0  1  2  3]\n",
      " [10 11 12 13]\n",
      " [20 21 22 23]\n",
      " [30 31 32 33]\n",
      " [40 41 42 43]]\n",
      "23\n",
      "(5, 4)\n",
      "[ 1 11 21 31 41]\n",
      "41\n",
      "[ 1 11 21 31]\n"
     ]
    }
   ],
   "source": [
    "def f(x,y):\n",
    "    return 10*x + y\n",
    "arr = np.fromfunction(f,(5,4),dtype = np.int32) # 输出5行4列二维数组\n",
    "print(arr)\n",
    "print(arr[2,3])#取第2行第3列的元素\n",
    "print(arr.shape)\n",
    "print(arr[0:5,1]) # 取0到5行的第1列元素 返回数组 即第1列向量\n",
    "print(arr[-1,1]) #最后一行\n",
    "print(arr[:-1,1]) # 0到最后一行"
   ]
  },
  {
   "cell_type": "markdown",
   "metadata": {},
   "source": [
    "#### 当少于轴数的索引被提供时，确失的索引被认为是整个切片：\n",
    " b[i]中括号中的表达式被当作i和一系列:，来代表剩下的轴。NumPy也允许你使用“点”像b[i,...]。\n",
    "\n",
    "点(…)代表许多产生一个完整的索引元组必要的分号。如果x是秩为5的数组(即它有5个轴)，那么:\n",
    "\n",
    "x[1,2,…] 等同于 x[1,2,:,:,:],\n",
    "x[…,3] 等同于 x[:,:,:,:,3]\n",
    "x[4,…,5,:] 等同 x[4,:,:,5,:].\n"
   ]
  },
  {
   "cell_type": "code",
   "execution_count": 26,
   "metadata": {},
   "outputs": [
    {
     "name": "stdout",
     "output_type": "stream",
     "text": [
      "[40 41 42 43]\n",
      "[40 41 42 43]\n",
      "[0 1 2 3]\n",
      "[10 11 12 13]\n",
      "[20 21 22 23]\n",
      "[30 31 32 33]\n",
      "[40 41 42 43]\n",
      "0\n",
      "1\n",
      "2\n",
      "3\n",
      "10\n",
      "11\n",
      "12\n",
      "13\n",
      "20\n",
      "21\n",
      "22\n",
      "23\n",
      "30\n",
      "31\n",
      "32\n",
      "33\n",
      "40\n",
      "41\n",
      "42\n",
      "43\n"
     ]
    }
   ],
   "source": [
    "print(arr[-1])\n",
    "print(arr[-1,...])\n",
    "# 迭代多维数组是就第一个轴而言的:\n",
    "for row in arr:\n",
    "    print(row) # 打印每一行\n",
    "# 想对每个数组中元素进行运算，我们可以使用flat属性，该属性是数组元素的一个迭代器\n",
    "for element in arr.flat:\n",
    "    print(element)"
   ]
  },
  {
   "cell_type": "markdown",
   "metadata": {},
   "source": [
    "#### 形状操作\n",
    "一个数组的形状由它每个轴上的元素个数给出"
   ]
  },
  {
   "cell_type": "code",
   "execution_count": 27,
   "metadata": {},
   "outputs": [
    {
     "name": "stdout",
     "output_type": "stream",
     "text": [
      "[[ 0.  0.  0.  0.]\n",
      " [ 0.  0.  0.  0.]\n",
      " [ 0.  0.  0.  0.]]\n"
     ]
    }
   ],
   "source": [
    "arr = np.floor(np.random.random((3,4)))\n",
    "print(arr)"
   ]
  },
  {
   "cell_type": "code",
   "execution_count": null,
   "metadata": {},
   "outputs": [],
   "source": []
  }
 ],
 "metadata": {
  "kernelspec": {
   "display_name": "Python 3",
   "language": "python",
   "name": "python3"
  },
  "language_info": {
   "codemirror_mode": {
    "name": "ipython",
    "version": 3
   },
   "file_extension": ".py",
   "mimetype": "text/x-python",
   "name": "python",
   "nbconvert_exporter": "python",
   "pygments_lexer": "ipython3",
   "version": "3.5.3"
  }
 },
 "nbformat": 4,
 "nbformat_minor": 2
}
