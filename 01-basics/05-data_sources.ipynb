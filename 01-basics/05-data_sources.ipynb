{
 "cells": [
  {
   "cell_type": "code",
   "execution_count": 1,
   "metadata": {},
   "outputs": [],
   "source": [
    "# Data gathering\n",
    "# ----------------------------------\n",
    "#\n",
    "# This function gives us the ways to access\n",
    "# the various data sets we will need\n",
    "\n",
    "# Data Gathering\n",
    "import matplotlib.pyplot as plt\n",
    "import numpy as np\n",
    "import tensorflow as tf\n",
    "from tensorflow.python.framework import ops\n",
    "\n",
    "ops.reset_default_graph()"
   ]
  },
  {
   "cell_type": "code",
   "execution_count": 3,
   "metadata": {},
   "outputs": [
    {
     "name": "stdout",
     "output_type": "stream",
     "text": [
      "150\n",
      "150\n",
      "[ 5.1  3.5  1.4  0.2]\n",
      "{0, 1, 2}\n"
     ]
    }
   ],
   "source": [
    "# Iris Data\n",
    "from sklearn import datasets\n",
    "iris = datasets.load_iris()\n",
    "print(len(iris.data))\n",
    "print(len(iris.target))\n",
    "print(iris.data[0])\n",
    "print(set(iris.target))"
   ]
  },
  {
   "cell_type": "code",
   "execution_count": 7,
   "metadata": {},
   "outputs": [],
   "source": [
    "# Low Birthrate Data\n",
    "import requests\n",
    "\n",
    "birthdata_url = 'https://www.umass.edu/statdata/statdata/data/lowbwt.dat'\n",
    "birth_file = requests.get(birthdata_url)\n",
    "# birth_data = birth_file.text.split('\\r\\n')[5:]\n",
    "# birth_header = [x for x in birth_data[0].split(' ') if len(x) >= 1]\n",
    "# birth_data = [[float(x) for x in y.split(' ') if len(x) >= 1] for y in birth_data[1:] if len(y) >= 1]\n",
    "# print(len(birth_data))\n",
    "# print(len(birth_data[0]))"
   ]
  },
  {
   "cell_type": "code",
   "execution_count": 10,
   "metadata": {},
   "outputs": [
    {
     "name": "stdout",
     "output_type": "stream",
     "text": [
      "[0.00632, 18.0, 2.31, 0.0, 0.538, 6.575, 65.2, 4.09, 1.0, 296.0, 15.3, 396.9, 4.98, 24.0]\n"
     ]
    }
   ],
   "source": [
    "housing_url = 'https://archive.ics.uci.edu/ml/machine-learning-databases/housing/housing.data'\n",
    "housing_file = requests.get(housing_url)\n",
    "# print(housing_file.text)\n",
    "housing_header = ['CRIM', 'ZN', 'INDUS', 'CHAS', 'NOX', 'RM', 'AGE', 'DIS', 'RAD', 'TAX', 'PTRATIO', 'B', 'LSTAT','MEDV']\n",
    "housing_data = [[float(x) for x in y.split(' ') if len(x) >= 1] for y in housing_file.text.split('\\n') if len(y) >= 1]\n",
    "print(housing_data[0])"
   ]
  },
  {
   "cell_type": "code",
   "execution_count": 11,
   "metadata": {},
   "outputs": [],
   "source": [
    "# MNIST Handwriting Data\n",
    "from tensorflow.examples.tutorials.mnist import input_data\n",
    "# minist = input_data.read_data_sets(\"./MINIST_data/\",one_hot=True)\n",
    "# print(len(minist.train.images))"
   ]
  },
  {
   "cell_type": "code",
   "execution_count": 9,
   "metadata": {},
   "outputs": [
    {
     "name": "stdout",
     "output_type": "stream",
     "text": [
      "5574\n",
      "{'spam', 'ham'}\n",
      "Ok lar... Joking wif u oni...\n"
     ]
    }
   ],
   "source": [
    "# Ham/Spam Text Data\n",
    "import requests\n",
    "import io\n",
    "import zipfile \n",
    "# Get/read zip file\n",
    "zip_url = 'http://archive.ics.uci.edu/ml/machine-learning-databases/00228/smsspamcollection.zip'\n",
    "r = requests.get(zip_url)\n",
    "# print(r.content)\n",
    "z = zipfile.ZipFile(io.BytesIO(r.content))\n",
    "file = z.read('SMSSpamCollection')\n",
    "# Format Data\n",
    "text_data = file.decode()\n",
    "text_data = text_data.encode('ascii', errors='ignore')\n",
    "text_data = text_data.decode().split('\\n')\n",
    "# print(text_data)\n",
    "text_data = [x.split('\\t') for x in text_data if len(x) >= 1]\n",
    "[text_data_target, text_data_train] = [list(x) for x in zip(*text_data)]\n",
    "print(len(text_data_train))\n",
    "print(set(text_data_target))\n",
    "print(text_data_train[1])"
   ]
  },
  {
   "cell_type": "code",
   "execution_count": 14,
   "metadata": {},
   "outputs": [
    {
     "name": "stdout",
     "output_type": "stream",
     "text": [
      "5331\n",
      "5331\n",
      "simplistic , silly and tedious . \n",
      "\n"
     ]
    }
   ],
   "source": [
    "# Movie Review Data\n",
    "import requests\n",
    "import io\n",
    "import tarfile\n",
    "\n",
    "movie_data_url = 'http://www.cs.cornell.edu/people/pabo/movie-review-data/rt-polaritydata.tar.gz'\n",
    "movie = requests.get(movie_data_url)\n",
    "# Stream data into temp object\n",
    "stream_data = io.BytesIO(movie.content)\n",
    "temp = io.BytesIO()\n",
    "while True:\n",
    "    s = stream_data.read(16384)\n",
    "    if not s:\n",
    "        break;\n",
    "    temp.write(s)\n",
    "stream_data.close()\n",
    "temp.seek(0)\n",
    "# Extract tar file\n",
    "tar_file = tarfile.open(fileobj=temp, mode=\"r:gz\")\n",
    "pos = tar_file.extractfile('rt-polaritydata/rt-polarity.pos')\n",
    "neg = tar_file.extractfile('rt-polaritydata/rt-polarity.neg')\n",
    "# Save pos/neg reviews\n",
    "pos_data = []\n",
    "for line in pos:\n",
    "    pos_data.append(line.decode('ISO-8859-1').encode('ascii', errors='ignore').decode())\n",
    "neg_data = []\n",
    "for line in neg:\n",
    "    neg_data.append(line.decode('ISO-8859-1').encode('ascii', errors='ignore').decode())\n",
    "tar_file.close()\n",
    "\n",
    "print(len(pos_data))\n",
    "print(len(neg_data))\n",
    "print(neg_data[0])"
   ]
  },
  {
   "cell_type": "code",
   "execution_count": 15,
   "metadata": {},
   "outputs": [
    {
     "name": "stdout",
     "output_type": "stream",
     "text": [
      "5582212\n"
     ]
    }
   ],
   "source": [
    "# The Works of Shakespeare Data\n",
    "import requests\n",
    "\n",
    "shakespeare_url = 'http://www.gutenberg.org/cache/epub/100/pg100.txt'\n",
    "# Get Shakespeare text\n",
    "response = requests.get(shakespeare_url)\n",
    "shakespeare_file = response.content\n",
    "# Decode binary into string\n",
    "shakespeare_text = shakespeare_file.decode('utf-8')\n",
    "# Drop first few descriptive paragraphs.\n",
    "shakespeare_text = shakespeare_text[7675:]\n",
    "print(len(shakespeare_text))"
   ]
  },
  {
   "cell_type": "code",
   "execution_count": 16,
   "metadata": {},
   "outputs": [
    {
     "name": "stdout",
     "output_type": "stream",
     "text": [
      "159204\n",
      "159204\n",
      "['Hello!', 'Hallo!']\n"
     ]
    }
   ],
   "source": [
    "# English-German Sentence Translation Data\n",
    "import requests\n",
    "import io\n",
    "from zipfile import ZipFile\n",
    "\n",
    "sentence_url = 'http://www.manythings.org/anki/deu-eng.zip'\n",
    "r = requests.get(sentence_url)\n",
    "z = ZipFile(io.BytesIO(r.content))\n",
    "file = z.read('deu.txt')\n",
    "# Format Data\n",
    "eng_ger_data = file.decode()\n",
    "eng_ger_data = eng_ger_data.encode('ascii', errors='ignore')\n",
    "eng_ger_data = eng_ger_data.decode().split('\\n')\n",
    "eng_ger_data = [x.split('\\t') for x in eng_ger_data if len(x) >= 1]\n",
    "[english_sentence, german_sentence] = [list(x) for x in zip(*eng_ger_data)]\n",
    "print(len(english_sentence))\n",
    "print(len(german_sentence))\n",
    "print(eng_ger_data[10])"
   ]
  },
  {
   "cell_type": "code",
   "execution_count": null,
   "metadata": {},
   "outputs": [],
   "source": []
  }
 ],
 "metadata": {
  "kernelspec": {
   "display_name": "Python 3",
   "language": "python",
   "name": "python3"
  },
  "language_info": {
   "codemirror_mode": {
    "name": "ipython",
    "version": 3
   },
   "file_extension": ".py",
   "mimetype": "text/x-python",
   "name": "python",
   "nbconvert_exporter": "python",
   "pygments_lexer": "ipython3",
   "version": "3.5.3"
  }
 },
 "nbformat": 4,
 "nbformat_minor": 2
}
