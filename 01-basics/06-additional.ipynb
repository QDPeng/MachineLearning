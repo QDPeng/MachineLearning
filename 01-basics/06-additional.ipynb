{
 "cells": [
  {
   "cell_type": "markdown",
   "metadata": {},
   "source": [
    "\n",
    "### Official Resources:\n",
    "\n",
    " - [Tensorflow Python API](https://www.tensorflow.org/api_docs/python/)\n",
    " - [Tensorflow on Github](https://github.com/tensorflow/tensorflow)\n",
    " - [Tensorflow Tutorials](https://www.tensorflow.org/tutorials/)\n",
    " - [Udacity Deep Learning Class](https://www.udacity.com/course/deep-learning--ud730)\n",
    " - [Tensorflow Playground](http://playground.tensorflow.org/)\n",
    "\n",
    "### Github Tutorials and Examples:\n",
    "\n",
    " - [Tutorials by pkmital](https://github.com/pkmital/tensorflow_tutorials)\n",
    " - [Tutorials by nlintz](https://github.com/nlintz/TensorFlow-Tutorials)\n",
    " - [Examples by americdamien](https://github.com/aymericdamien/TensorFlow-Examples)\n",
    " - [Tensorflow Workshop by amygdala](https://github.com/amygdala/tensorflow-workshop)\n",
    "\n",
    "### Deep Learning Resources\n",
    "\n",
    " - [Efficient Back Prop by Yann LeCun, et. al.](http://yann.lecun.com/exdb/publis/pdf/lecun-98b.pdf)\n",
    " - [Online Deep Learning Book, MIT Press](http://www.deeplearningbook.org/)\n",
    " - [An Overview of Gradient Descent Algorithms by Sebastian Ruder](http://sebastianruder.com/optimizing-gradient-descent/)\n",
    " - [Stochastic Optimization by John Duchi, et. al.](http://www.jmlr.org/papers/volume12/duchi11a/duchi11a.pdf)\n",
    " - [ADADELTA Method by Matthew Zeiler](http://arxiv.org/abs/1212.5701)\n",
    " - [A Friendly Introduction to Cross-Entropy Loss by Rob DiPietro](http://rdipietro.github.io/friendly-intro-to-cross-entropy-loss/)\n",
    "\n",
    "\n",
    "### Additional Resources\n",
    "\n",
    " - [A Curated List of Dedicated Tensorflow Resources](https://github.com/jtoy/awesome-tensorflow/)\n",
    "\n",
    "### Arxiv Papers\n",
    "\n",
    " - [TensorFlow: Large-Scale Machine Learning on Heterogeneous Distributed Systems](http://arxiv.org/abs/1603.04467)\n",
    " - [TensorFlow: A system for large-scale machine learning](http://arxiv.org/abs/1605.08695)\n",
    " - [Distributed TensorFlow with MPI](https://arxiv.org/abs/1603.02339)\n",
    " - [Comparative Study of Deep Learning Software Frameworks](https://arxiv.org/abs/1511.06435)\n",
    " - [Wide & Deep Learning for Recommender Systems](https://arxiv.org/abs/1606.07792)\n"
   ]
  }
 ],
 "metadata": {
  "kernelspec": {
   "display_name": "Python 3",
   "language": "python",
   "name": "python3"
  },
  "language_info": {
   "codemirror_mode": {
    "name": "ipython",
    "version": 3
   },
   "file_extension": ".py",
   "mimetype": "text/x-python",
   "name": "python",
   "nbconvert_exporter": "python",
   "pygments_lexer": "ipython3",
   "version": "3.5.3"
  }
 },
 "nbformat": 4,
 "nbformat_minor": 2
}
